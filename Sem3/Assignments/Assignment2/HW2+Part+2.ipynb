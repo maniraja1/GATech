{
 "cells": [
  {
   "cell_type": "markdown",
   "metadata": {
    "deletable": false,
    "editable": false,
    "nbgrader": {
     "grade": false,
     "locked": true,
     "solution": false
    }
   },
   "source": [
    "# MGT6203 HW2 Part 2"
   ]
  },
  {
   "cell_type": "markdown",
   "metadata": {
    "deletable": false,
    "editable": false,
    "nbgrader": {
     "grade": false,
     "locked": true,
     "solution": false
    }
   },
   "source": [
    "## Instructions:\n",
    "\n",
    "\n",
    "**For Homework 2 Part 2, please use this R notebook in Vocareum to submit your solutions. Vocareum is an educational cloud platform for programming in several languages; it is based on the Jupyter notebook environment. This platform allows us to move homework assignments to the cloud. The advantages are that all of you will be working in the same coding environment AND peer reviewers will be able to run your R code easily. This way we eliminate some issues we might encounter when working on an individual/local basis, such as library installations and Rstudio OS requirements; R notebooks work on mobile platforms and tablets.**\n",
    "\n",
    "**With R notebooks, you will be learning a new way of presenting data analysis reports, that is neat and flexible, where formatted (English) text and (R) code can easily coexist on the same page. Notebooks can be also collaborative when needed. For now, we are asking each of you to do your own work for homework. Think of R notebooks as interactive program-based Google docs or MS-Office 360 docs; these are gradually replacing local files on our computers. **\n",
    "\n",
    "**Many of you are new to the R notebooks and Vocareum platforms. We will provide TA help in Piazza with specific code if you have questions. Here we list some important things to get you started. Please read through them carefully.**\n",
    "\n",
    "\n",
    "<ol>\n",
    "<li>Even though we are moving from your local envrionment to the cloud, **our expectations from your homework will remain the same**. Same goes for the rubrics.</li>\n",
    "\n",
    "<li>Vocareum has its own cloud based file system, the data files you will be using for the assignments will be stored in the cloud with path **\"../resource/asnlib/publicdata/FILENAME.csv\"**. You will be able to import them with the same method as you do in RStudio, simply substitute the path name to the one specified in the instructions. You won't be able to modify these data files.</li>\n",
    "\n",
    "<li>You will be able to find the data files on Canvas/EdX if you would like to explore them offline.</li>\n",
    "\n",
    "<li>**For coding questions, you will be graded on the R code as well as the output** in your submission.</li>\n",
    "\n",
    "<li>**For interpretations or short response questions, please type the answers in the notebook's markdown cells**. To change a code cell to a markdown cell, click on the cell, and in the dropdown menu above, switch the type of the cell block from \"code\" to \"markdown\". **Adding print statements to code cells for short response/interpretation questions is also fine, as long as we can clearly see the output of your response**.</li>\n",
    "\n",
    "<li>You don't need to, but if you would like to learn more about how to format your markdown cells, visit the following site: https://www.earthdatascience.org/courses/intro-to-earth-data-science/file-formats/use-text-files/format-text-with-markdown-jupyter-notebook/. Jupyter notebook also support LaTeX.</li>\n",
    "\n",
    "<li>**Feel free to delete or add as many additional cells as you need**. But please try to keep your notebook clean and keep your solution to a question directly under that question to avoid confusions.</li>\n",
    "\n",
    "<li>You may delete the #SOLUTION BEGINS/ENDS HERE comments from the cell blocks, they are just pointers that indicates where to put you solutions.</li>\n",
    "\n",
    "<li>**When you have finished the assignment, remember to rerun your notebook to check if it runs correctly.** You can do so by going to **Kernel-> Restart & Run All**. You may lose points if your solutions does not run successfully.</li>\n",
    "\n",
    "<li>**Click the \"Submit\" button on the top right corner to turn in your assignment**. Your assignment will enter the next phase for peer review.</li>\n",
    "\n",
    "<li>**You are allowed a total of 2 submissions for this assignment. So make sure that you submit your responses carefully. You will be able to come back and resubmit your assignment as long as it is before the start of the peer review period.</li>\n",
    "\n",
    "<li>**Please remember to finish the peer reviews after you have submitted your assignment.** You are responsible for grading the work of three of your peers thoroughly, and in addherence to the rubrics. And you will be held accountable for peer grading. **There will be a 30% penalty to your grade if you fail to complete one or more peer reviews in proper fashion.**</li>\n",
    "\n",
    "<li>This is the first time we implement this homework system in the MGT6203, feel free to address your questions, concerns, and provide any feedback on Piazza. We will continuously try to improve going forward.</li>\n",
    "\n",
    "<li>Good Luck!</li>\n",
    "\n",
    "</ol>\n",
    "\n"
   ]
  },
  {
   "cell_type": "markdown",
   "metadata": {
    "deletable": false,
    "editable": false,
    "nbgrader": {
     "grade": false,
     "locked": true,
     "solution": false
    }
   },
   "source": [
    "# About Package Installation:\n",
    "\n",
    "Most of the packages (if not all) that you will need to complete this assignment are already installed in this environment. An easy way to check this is to run the command: library(PackageName). If this command runs successfully then the package was already installed and has been successfully attached to the code. If the command gave an error saying the Package was not found then follow the steps below to successfully install the package and attach it to the code: \n",
    "\n",
    "Use *installed.packages()* command to return a table of the packages that are preinstalled in the environment.\n",
    "\n",
    "To attach a preinstalled library in Vocareum, simply use *library(PackageName)*\n",
    "\n",
    "**To install a package that does not come with the provided environment, please use the following syntax:**\n",
    "\n",
    "*install.packages(\"PackageName\", lib=\"../work/\")*\n",
    "\n",
    "**To attach a library you just installed, use the following syntax:**\n",
    "\n",
    "*library(PackageName, lib.loc=\"../work/\")*\n",
    "\n",
    "Make sure the file location is the same as the above code snippets *(\"../work/\")*\n",
    "\n",
    "\n"
   ]
  },
  {
   "cell_type": "markdown",
   "metadata": {
    "deletable": false,
    "editable": false,
    "nbgrader": {
     "grade": false,
     "locked": true,
     "solution": false
    }
   },
   "source": [
    "## Q1. (30 Points Total)\n",
    "\n",
    "### For part A and B:\n",
    "\n",
    "\"PlantGrowth\" is a dataset in R that contains crop weights of a control group and two treatment groups.   \n",
    "\n",
    "*#Code to Get Data*\n",
    "\n",
    "*library(datasets)*\n",
    "\n",
    "*data(PlantGrowth)*\n",
    "\n",
    "\n",
    "**Perform the following operations:  Create two separate datasets: dataset1 contains datapoints of treatment 1 group and control group, and dataset2 contains datapoints of treatment 2 group with the control group.**"
   ]
  },
  {
   "cell_type": "markdown",
   "metadata": {
    "deletable": false,
    "editable": false,
    "nbgrader": {
     "grade": false,
     "locked": true,
     "solution": false
    }
   },
   "source": [
    "### A. Now compute the difference estimator for each of the datasets that you just created. (treatment 1 vs control group for dataset1, and treatment 2 vs control group for dataset2) (5 Points)"
   ]
  },
  {
   "cell_type": "code",
   "execution_count": 1,
   "metadata": {},
   "outputs": [
    {
     "name": "stderr",
     "output_type": "stream",
     "text": [
      "\n",
      "Attaching package: ‘dplyr’\n",
      "\n",
      "\n",
      "The following objects are masked from ‘package:stats’:\n",
      "\n",
      "    filter, lag\n",
      "\n",
      "\n",
      "The following objects are masked from ‘package:base’:\n",
      "\n",
      "    intersect, setdiff, setequal, union\n",
      "\n",
      "\n"
     ]
    },
    {
     "data": {
      "text/html": [
       "<table>\n",
       "<caption>A data.frame: 6 × 3</caption>\n",
       "<thead>\n",
       "\t<tr><th></th><th scope=col>weight</th><th scope=col>group</th><th scope=col>ctrl</th></tr>\n",
       "\t<tr><th></th><th scope=col>&lt;dbl&gt;</th><th scope=col>&lt;fct&gt;</th><th scope=col>&lt;dbl&gt;</th></tr>\n",
       "</thead>\n",
       "<tbody>\n",
       "\t<tr><th scope=row>1</th><td>4.17</td><td>ctrl</td><td>1</td></tr>\n",
       "\t<tr><th scope=row>2</th><td>5.58</td><td>ctrl</td><td>1</td></tr>\n",
       "\t<tr><th scope=row>3</th><td>5.18</td><td>ctrl</td><td>1</td></tr>\n",
       "\t<tr><th scope=row>4</th><td>6.11</td><td>ctrl</td><td>1</td></tr>\n",
       "\t<tr><th scope=row>5</th><td>4.50</td><td>ctrl</td><td>1</td></tr>\n",
       "\t<tr><th scope=row>6</th><td>4.61</td><td>ctrl</td><td>1</td></tr>\n",
       "</tbody>\n",
       "</table>\n"
      ],
      "text/latex": [
       "A data.frame: 6 × 3\n",
       "\\begin{tabular}{r|lll}\n",
       "  & weight & group & ctrl\\\\\n",
       "  & <dbl> & <fct> & <dbl>\\\\\n",
       "\\hline\n",
       "\t1 & 4.17 & ctrl & 1\\\\\n",
       "\t2 & 5.58 & ctrl & 1\\\\\n",
       "\t3 & 5.18 & ctrl & 1\\\\\n",
       "\t4 & 6.11 & ctrl & 1\\\\\n",
       "\t5 & 4.50 & ctrl & 1\\\\\n",
       "\t6 & 4.61 & ctrl & 1\\\\\n",
       "\\end{tabular}\n"
      ],
      "text/markdown": [
       "\n",
       "A data.frame: 6 × 3\n",
       "\n",
       "| <!--/--> | weight &lt;dbl&gt; | group &lt;fct&gt; | ctrl &lt;dbl&gt; |\n",
       "|---|---|---|---|\n",
       "| 1 | 4.17 | ctrl | 1 |\n",
       "| 2 | 5.58 | ctrl | 1 |\n",
       "| 3 | 5.18 | ctrl | 1 |\n",
       "| 4 | 6.11 | ctrl | 1 |\n",
       "| 5 | 4.50 | ctrl | 1 |\n",
       "| 6 | 4.61 | ctrl | 1 |\n",
       "\n"
      ],
      "text/plain": [
       "  weight group ctrl\n",
       "1 4.17   ctrl  1   \n",
       "2 5.58   ctrl  1   \n",
       "3 5.18   ctrl  1   \n",
       "4 6.11   ctrl  1   \n",
       "5 4.50   ctrl  1   \n",
       "6 4.61   ctrl  1   "
      ]
     },
     "metadata": {},
     "output_type": "display_data"
    },
    {
     "data": {
      "text/html": [
       "<table>\n",
       "<caption>A data.frame: 6 × 3</caption>\n",
       "<thead>\n",
       "\t<tr><th></th><th scope=col>weight</th><th scope=col>group</th><th scope=col>ctrl</th></tr>\n",
       "\t<tr><th></th><th scope=col>&lt;dbl&gt;</th><th scope=col>&lt;fct&gt;</th><th scope=col>&lt;dbl&gt;</th></tr>\n",
       "</thead>\n",
       "<tbody>\n",
       "\t<tr><th scope=row>1</th><td>4.17</td><td>ctrl</td><td>1</td></tr>\n",
       "\t<tr><th scope=row>2</th><td>5.58</td><td>ctrl</td><td>1</td></tr>\n",
       "\t<tr><th scope=row>3</th><td>5.18</td><td>ctrl</td><td>1</td></tr>\n",
       "\t<tr><th scope=row>4</th><td>6.11</td><td>ctrl</td><td>1</td></tr>\n",
       "\t<tr><th scope=row>5</th><td>4.50</td><td>ctrl</td><td>1</td></tr>\n",
       "\t<tr><th scope=row>6</th><td>4.61</td><td>ctrl</td><td>1</td></tr>\n",
       "</tbody>\n",
       "</table>\n"
      ],
      "text/latex": [
       "A data.frame: 6 × 3\n",
       "\\begin{tabular}{r|lll}\n",
       "  & weight & group & ctrl\\\\\n",
       "  & <dbl> & <fct> & <dbl>\\\\\n",
       "\\hline\n",
       "\t1 & 4.17 & ctrl & 1\\\\\n",
       "\t2 & 5.58 & ctrl & 1\\\\\n",
       "\t3 & 5.18 & ctrl & 1\\\\\n",
       "\t4 & 6.11 & ctrl & 1\\\\\n",
       "\t5 & 4.50 & ctrl & 1\\\\\n",
       "\t6 & 4.61 & ctrl & 1\\\\\n",
       "\\end{tabular}\n"
      ],
      "text/markdown": [
       "\n",
       "A data.frame: 6 × 3\n",
       "\n",
       "| <!--/--> | weight &lt;dbl&gt; | group &lt;fct&gt; | ctrl &lt;dbl&gt; |\n",
       "|---|---|---|---|\n",
       "| 1 | 4.17 | ctrl | 1 |\n",
       "| 2 | 5.58 | ctrl | 1 |\n",
       "| 3 | 5.18 | ctrl | 1 |\n",
       "| 4 | 6.11 | ctrl | 1 |\n",
       "| 5 | 4.50 | ctrl | 1 |\n",
       "| 6 | 4.61 | ctrl | 1 |\n",
       "\n"
      ],
      "text/plain": [
       "  weight group ctrl\n",
       "1 4.17   ctrl  1   \n",
       "2 5.58   ctrl  1   \n",
       "3 5.18   ctrl  1   \n",
       "4 6.11   ctrl  1   \n",
       "5 4.50   ctrl  1   \n",
       "6 4.61   ctrl  1   "
      ]
     },
     "metadata": {},
     "output_type": "display_data"
    },
    {
     "data": {
      "text/plain": [
       "\n",
       "Call:\n",
       "lm(formula = weight ~ ctrl, data = set1)\n",
       "\n",
       "Residuals:\n",
       "    Min      1Q  Median      3Q     Max \n",
       "-1.0710 -0.4938  0.0685  0.2462  1.3690 \n",
       "\n",
       "Coefficients:\n",
       "            Estimate Std. Error t value Pr(>|t|)    \n",
       "(Intercept)   4.6610     0.2202  21.165 3.62e-14 ***\n",
       "ctrl          0.3710     0.3114   1.191    0.249    \n",
       "---\n",
       "Signif. codes:  0 ‘***’ 0.001 ‘**’ 0.01 ‘*’ 0.05 ‘.’ 0.1 ‘ ’ 1\n",
       "\n",
       "Residual standard error: 0.6964 on 18 degrees of freedom\n",
       "Multiple R-squared:  0.07308,\tAdjusted R-squared:  0.02158 \n",
       "F-statistic: 1.419 on 1 and 18 DF,  p-value: 0.249\n"
      ]
     },
     "metadata": {},
     "output_type": "display_data"
    },
    {
     "data": {
      "text/plain": [
       "\n",
       "Call:\n",
       "lm(formula = weight ~ ctrl, data = set2)\n",
       "\n",
       "Residuals:\n",
       "   Min     1Q Median     3Q    Max \n",
       "-0.862 -0.410 -0.006  0.280  1.078 \n",
       "\n",
       "Coefficients:\n",
       "            Estimate Std. Error t value Pr(>|t|)    \n",
       "(Intercept)   5.5260     0.1637  33.760   <2e-16 ***\n",
       "ctrl         -0.4940     0.2315  -2.134   0.0469 *  \n",
       "---\n",
       "Signif. codes:  0 ‘***’ 0.001 ‘**’ 0.01 ‘*’ 0.05 ‘.’ 0.1 ‘ ’ 1\n",
       "\n",
       "Residual standard error: 0.5176 on 18 degrees of freedom\n",
       "Multiple R-squared:  0.2019,\tAdjusted R-squared:  0.1576 \n",
       "F-statistic: 4.554 on 1 and 18 DF,  p-value: 0.04685\n"
      ]
     },
     "metadata": {},
     "output_type": "display_data"
    }
   ],
   "source": [
    "# SOLUTION BEGINS HERE\n",
    "library(datasets)\n",
    "library(dplyr)\n",
    "set1 <- PlantGrowth[PlantGrowth$group %in%  c(\"ctrl\",\"trt1\"),]\n",
    "set2 <- PlantGrowth[PlantGrowth$group %in%  c(\"ctrl\",\"trt2\"),]\n",
    "\n",
    "set1 <- set1 %>%\n",
    "  mutate(ctrl = ifelse(group == \"ctrl\", 1, 0))\n",
    "\n",
    "set2 <- set2 %>%\n",
    "  mutate(ctrl = ifelse(group == \"ctrl\", 1, 0))\n",
    "\n",
    "head(set1)\n",
    "head(set2)\n",
    "\n",
    "model1 <- lm(weight ~ ctrl, data=set1)\n",
    "model2 <- lm(weight ~ ctrl, data=set2)\n",
    "\n",
    "summary(model1)\n",
    "summary(model2)\n",
    "# SOLUTION ENDS HERE"
   ]
  },
  {
   "cell_type": "markdown",
   "metadata": {},
   "source": [
    "As you can see from the above linear models \n",
    "- The difference in difference estimator for treatment1 and control group is 0.3710 \n",
    "- The difference in difference estimator for treatment2 and control group is -0.4940"
   ]
  },
  {
   "cell_type": "markdown",
   "metadata": {
    "deletable": false,
    "editable": false,
    "nbgrader": {
     "grade": false,
     "locked": true,
     "solution": false
    }
   },
   "source": [
    "### B. From the 'PlantGrowth' dataset, what is the average crop weight of the control group, treatment 1 group, and treatment 2 group? Comment on which group has the highest average. (6 Points)"
   ]
  },
  {
   "cell_type": "code",
   "execution_count": 2,
   "metadata": {},
   "outputs": [
    {
     "data": {
      "text/html": [
       "5.032"
      ],
      "text/latex": [
       "5.032"
      ],
      "text/markdown": [
       "5.032"
      ],
      "text/plain": [
       "[1] 5.032"
      ]
     },
     "metadata": {},
     "output_type": "display_data"
    },
    {
     "data": {
      "text/html": [
       "4.661"
      ],
      "text/latex": [
       "4.661"
      ],
      "text/markdown": [
       "4.661"
      ],
      "text/plain": [
       "[1] 4.661"
      ]
     },
     "metadata": {},
     "output_type": "display_data"
    },
    {
     "data": {
      "text/html": [
       "5.526"
      ],
      "text/latex": [
       "5.526"
      ],
      "text/markdown": [
       "5.526"
      ],
      "text/plain": [
       "[1] 5.526"
      ]
     },
     "metadata": {},
     "output_type": "display_data"
    }
   ],
   "source": [
    "# SOLUTION BEGINS HERE\n",
    "mean(PlantGrowth[PlantGrowth$group %in%  c(\"ctrl\"),\"weight\"])\n",
    "mean(PlantGrowth[PlantGrowth$group %in%  c(\"trt1\"),\"weight\"])\n",
    "mean(PlantGrowth[PlantGrowth$group %in%  c(\"trt2\"),\"weight\"])\n",
    "# SOLUTION ENDS HERE"
   ]
  },
  {
   "cell_type": "markdown",
   "metadata": {},
   "source": [
    "The group with the highest avearge crop weight is Treatment2"
   ]
  },
  {
   "cell_type": "markdown",
   "metadata": {
    "deletable": false,
    "editable": false,
    "nbgrader": {
     "grade": false,
     "locked": true,
     "solution": false
    }
   },
   "source": [
    "### For Parts C,D, and E: \n",
    "\n",
    "**Use the Dataset “Min_Wage.csv” and the information below to answer the questions.**\n",
    "\n",
    "The Minimum Wage Law protects the right of workers to get a minimum wage. Consider a scenario where the law of minimum wage was changed just in the state of New Jersey (i.e., law has not been changed in other states).  We want to use the data from company XYZ to observe the difference in hours worked by full time employees in New Jersey before and after the law was changed.  \n",
    "\n",
    "Note: The variable 'State’ indicates the citizenship of the worker, i.e., State = New Jersey ,the worker is from NJ, else worker is not from NJ (is from Philadelphia).    \n",
    "\n",
    "Note: The variable 'fte' contains the number of hours worked by full-time employee.   \n",
    "\n",
    "Note: The variable 'd' indicates whether or not the data was collected before or after the law changed, i.e. d = 1 indicates the data was collected after the law was changed, and d = 0 indicates the data was collected before the law was changed.\n",
    "\n",
    "**Note: The file \"Min_Wage.csv\" can be accessed at the path: (\"../resource/asnlib/publicdata/Min_Wage.csv\").\n",
    "E.g. read.csv(\"../resource/asnlib/publicdata/Min_Wage.csv\")**"
   ]
  },
  {
   "cell_type": "markdown",
   "metadata": {
    "deletable": false,
    "editable": false,
    "nbgrader": {
     "grade": false,
     "locked": true,
     "solution": false
    }
   },
   "source": [
    "### C. In the above problem, classify the workers into four groups and assign the corresponding group with the group title (A,B,C, and D) where the group titles are as follows:   (8 Points)\n",
    "\n",
    "| |Before|After|\n",
    "|------|------|------|\n",
    "|Control|A|C|\n",
    "|Treated|B|D|\n",
    "\n",
    "Note: This is a theoretical question, you just need to identify each group with a short description of what the group is. You don’t need to create a column categorizing the datapoints into groups."
   ]
  },
  {
   "cell_type": "code",
   "execution_count": 3,
   "metadata": {},
   "outputs": [
    {
     "data": {
      "text/html": [
       "<table>\n",
       "<caption>A data.frame: 6 × 14</caption>\n",
       "<thead>\n",
       "\t<tr><th></th><th scope=col>d</th><th scope=col>d_nj</th><th scope=col>fte</th><th scope=col>bk</th><th scope=col>kfc</th><th scope=col>roys</th><th scope=col>wendys</th><th scope=col>co_owned</th><th scope=col>centralj</th><th scope=col>southj</th><th scope=col>pa1</th><th scope=col>pa2</th><th scope=col>demp</th><th scope=col>State</th></tr>\n",
       "\t<tr><th></th><th scope=col>&lt;int&gt;</th><th scope=col>&lt;int&gt;</th><th scope=col>&lt;dbl&gt;</th><th scope=col>&lt;int&gt;</th><th scope=col>&lt;int&gt;</th><th scope=col>&lt;int&gt;</th><th scope=col>&lt;int&gt;</th><th scope=col>&lt;int&gt;</th><th scope=col>&lt;int&gt;</th><th scope=col>&lt;int&gt;</th><th scope=col>&lt;int&gt;</th><th scope=col>&lt;int&gt;</th><th scope=col>&lt;dbl&gt;</th><th scope=col>&lt;chr&gt;</th></tr>\n",
       "</thead>\n",
       "<tbody>\n",
       "\t<tr><th scope=row>619</th><td>0</td><td>0</td><td>40.50</td><td>1</td><td>0</td><td>0</td><td>0</td><td>0</td><td>0</td><td>0</td><td>1</td><td>0</td><td>-16.50</td><td>Philadelphia</td></tr>\n",
       "\t<tr><th scope=row>620</th><td>0</td><td>0</td><td>13.75</td><td>0</td><td>1</td><td>0</td><td>0</td><td>0</td><td>0</td><td>0</td><td>1</td><td>0</td><td> -2.25</td><td>Philadelphia</td></tr>\n",
       "\t<tr><th scope=row>621</th><td>0</td><td>0</td><td> 8.50</td><td>0</td><td>1</td><td>0</td><td>0</td><td>1</td><td>0</td><td>0</td><td>1</td><td>0</td><td>  2.00</td><td>Philadelphia</td></tr>\n",
       "\t<tr><th scope=row>622</th><td>0</td><td>0</td><td>34.00</td><td>0</td><td>0</td><td>0</td><td>1</td><td>1</td><td>0</td><td>0</td><td>1</td><td>0</td><td>-14.00</td><td>Philadelphia</td></tr>\n",
       "\t<tr><th scope=row>623</th><td>0</td><td>0</td><td>24.00</td><td>0</td><td>0</td><td>0</td><td>1</td><td>1</td><td>0</td><td>0</td><td>1</td><td>0</td><td> 11.50</td><td>Philadelphia</td></tr>\n",
       "\t<tr><th scope=row>624</th><td>0</td><td>0</td><td>70.50</td><td>1</td><td>0</td><td>0</td><td>0</td><td>0</td><td>0</td><td>0</td><td>0</td><td>1</td><td>-41.50</td><td>Philadelphia</td></tr>\n",
       "</tbody>\n",
       "</table>\n"
      ],
      "text/latex": [
       "A data.frame: 6 × 14\n",
       "\\begin{tabular}{r|llllllllllllll}\n",
       "  & d & d\\_nj & fte & bk & kfc & roys & wendys & co\\_owned & centralj & southj & pa1 & pa2 & demp & State\\\\\n",
       "  & <int> & <int> & <dbl> & <int> & <int> & <int> & <int> & <int> & <int> & <int> & <int> & <int> & <dbl> & <chr>\\\\\n",
       "\\hline\n",
       "\t619 & 0 & 0 & 40.50 & 1 & 0 & 0 & 0 & 0 & 0 & 0 & 1 & 0 & -16.50 & Philadelphia\\\\\n",
       "\t620 & 0 & 0 & 13.75 & 0 & 1 & 0 & 0 & 0 & 0 & 0 & 1 & 0 &  -2.25 & Philadelphia\\\\\n",
       "\t621 & 0 & 0 &  8.50 & 0 & 1 & 0 & 0 & 1 & 0 & 0 & 1 & 0 &   2.00 & Philadelphia\\\\\n",
       "\t622 & 0 & 0 & 34.00 & 0 & 0 & 0 & 1 & 1 & 0 & 0 & 1 & 0 & -14.00 & Philadelphia\\\\\n",
       "\t623 & 0 & 0 & 24.00 & 0 & 0 & 0 & 1 & 1 & 0 & 0 & 1 & 0 &  11.50 & Philadelphia\\\\\n",
       "\t624 & 0 & 0 & 70.50 & 1 & 0 & 0 & 0 & 0 & 0 & 0 & 0 & 1 & -41.50 & Philadelphia\\\\\n",
       "\\end{tabular}\n"
      ],
      "text/markdown": [
       "\n",
       "A data.frame: 6 × 14\n",
       "\n",
       "| <!--/--> | d &lt;int&gt; | d_nj &lt;int&gt; | fte &lt;dbl&gt; | bk &lt;int&gt; | kfc &lt;int&gt; | roys &lt;int&gt; | wendys &lt;int&gt; | co_owned &lt;int&gt; | centralj &lt;int&gt; | southj &lt;int&gt; | pa1 &lt;int&gt; | pa2 &lt;int&gt; | demp &lt;dbl&gt; | State &lt;chr&gt; |\n",
       "|---|---|---|---|---|---|---|---|---|---|---|---|---|---|---|\n",
       "| 619 | 0 | 0 | 40.50 | 1 | 0 | 0 | 0 | 0 | 0 | 0 | 1 | 0 | -16.50 | Philadelphia |\n",
       "| 620 | 0 | 0 | 13.75 | 0 | 1 | 0 | 0 | 0 | 0 | 0 | 1 | 0 |  -2.25 | Philadelphia |\n",
       "| 621 | 0 | 0 |  8.50 | 0 | 1 | 0 | 0 | 1 | 0 | 0 | 1 | 0 |   2.00 | Philadelphia |\n",
       "| 622 | 0 | 0 | 34.00 | 0 | 0 | 0 | 1 | 1 | 0 | 0 | 1 | 0 | -14.00 | Philadelphia |\n",
       "| 623 | 0 | 0 | 24.00 | 0 | 0 | 0 | 1 | 1 | 0 | 0 | 1 | 0 |  11.50 | Philadelphia |\n",
       "| 624 | 0 | 0 | 70.50 | 1 | 0 | 0 | 0 | 0 | 0 | 0 | 0 | 1 | -41.50 | Philadelphia |\n",
       "\n"
      ],
      "text/plain": [
       "    d d_nj fte   bk kfc roys wendys co_owned centralj southj pa1 pa2 demp  \n",
       "619 0 0    40.50 1  0   0    0      0        0        0      1   0   -16.50\n",
       "620 0 0    13.75 0  1   0    0      0        0        0      1   0    -2.25\n",
       "621 0 0     8.50 0  1   0    0      1        0        0      1   0     2.00\n",
       "622 0 0    34.00 0  0   0    1      1        0        0      1   0   -14.00\n",
       "623 0 0    24.00 0  0   0    1      1        0        0      1   0    11.50\n",
       "624 0 0    70.50 1  0   0    0      0        0        0      0   1   -41.50\n",
       "    State       \n",
       "619 Philadelphia\n",
       "620 Philadelphia\n",
       "621 Philadelphia\n",
       "622 Philadelphia\n",
       "623 Philadelphia\n",
       "624 Philadelphia"
      ]
     },
     "metadata": {},
     "output_type": "display_data"
    },
    {
     "data": {
      "text/html": [
       "<table>\n",
       "<caption>A data.frame: 6 × 14</caption>\n",
       "<thead>\n",
       "\t<tr><th></th><th scope=col>d</th><th scope=col>d_nj</th><th scope=col>fte</th><th scope=col>bk</th><th scope=col>kfc</th><th scope=col>roys</th><th scope=col>wendys</th><th scope=col>co_owned</th><th scope=col>centralj</th><th scope=col>southj</th><th scope=col>pa1</th><th scope=col>pa2</th><th scope=col>demp</th><th scope=col>State</th></tr>\n",
       "\t<tr><th></th><th scope=col>&lt;int&gt;</th><th scope=col>&lt;int&gt;</th><th scope=col>&lt;dbl&gt;</th><th scope=col>&lt;int&gt;</th><th scope=col>&lt;int&gt;</th><th scope=col>&lt;int&gt;</th><th scope=col>&lt;int&gt;</th><th scope=col>&lt;int&gt;</th><th scope=col>&lt;int&gt;</th><th scope=col>&lt;int&gt;</th><th scope=col>&lt;int&gt;</th><th scope=col>&lt;int&gt;</th><th scope=col>&lt;dbl&gt;</th><th scope=col>&lt;chr&gt;</th></tr>\n",
       "</thead>\n",
       "<tbody>\n",
       "\t<tr><th scope=row>694</th><td>1</td><td>0</td><td>24.0</td><td>1</td><td>0</td><td>0</td><td>0</td><td>0</td><td>0</td><td>0</td><td>1</td><td>0</td><td>-16.50</td><td>Philadelphia</td></tr>\n",
       "\t<tr><th scope=row>695</th><td>1</td><td>0</td><td>11.5</td><td>0</td><td>1</td><td>0</td><td>0</td><td>0</td><td>0</td><td>0</td><td>1</td><td>0</td><td> -2.25</td><td>Philadelphia</td></tr>\n",
       "\t<tr><th scope=row>696</th><td>1</td><td>0</td><td>10.5</td><td>0</td><td>1</td><td>0</td><td>0</td><td>1</td><td>0</td><td>0</td><td>1</td><td>0</td><td>  2.00</td><td>Philadelphia</td></tr>\n",
       "\t<tr><th scope=row>697</th><td>1</td><td>0</td><td>20.0</td><td>0</td><td>0</td><td>0</td><td>1</td><td>1</td><td>0</td><td>0</td><td>1</td><td>0</td><td>-14.00</td><td>Philadelphia</td></tr>\n",
       "\t<tr><th scope=row>698</th><td>1</td><td>0</td><td>35.5</td><td>0</td><td>0</td><td>0</td><td>1</td><td>1</td><td>0</td><td>0</td><td>1</td><td>0</td><td> 11.50</td><td>Philadelphia</td></tr>\n",
       "\t<tr><th scope=row>699</th><td>1</td><td>0</td><td>29.0</td><td>1</td><td>0</td><td>0</td><td>0</td><td>0</td><td>0</td><td>0</td><td>0</td><td>1</td><td>-41.50</td><td>Philadelphia</td></tr>\n",
       "</tbody>\n",
       "</table>\n"
      ],
      "text/latex": [
       "A data.frame: 6 × 14\n",
       "\\begin{tabular}{r|llllllllllllll}\n",
       "  & d & d\\_nj & fte & bk & kfc & roys & wendys & co\\_owned & centralj & southj & pa1 & pa2 & demp & State\\\\\n",
       "  & <int> & <int> & <dbl> & <int> & <int> & <int> & <int> & <int> & <int> & <int> & <int> & <int> & <dbl> & <chr>\\\\\n",
       "\\hline\n",
       "\t694 & 1 & 0 & 24.0 & 1 & 0 & 0 & 0 & 0 & 0 & 0 & 1 & 0 & -16.50 & Philadelphia\\\\\n",
       "\t695 & 1 & 0 & 11.5 & 0 & 1 & 0 & 0 & 0 & 0 & 0 & 1 & 0 &  -2.25 & Philadelphia\\\\\n",
       "\t696 & 1 & 0 & 10.5 & 0 & 1 & 0 & 0 & 1 & 0 & 0 & 1 & 0 &   2.00 & Philadelphia\\\\\n",
       "\t697 & 1 & 0 & 20.0 & 0 & 0 & 0 & 1 & 1 & 0 & 0 & 1 & 0 & -14.00 & Philadelphia\\\\\n",
       "\t698 & 1 & 0 & 35.5 & 0 & 0 & 0 & 1 & 1 & 0 & 0 & 1 & 0 &  11.50 & Philadelphia\\\\\n",
       "\t699 & 1 & 0 & 29.0 & 1 & 0 & 0 & 0 & 0 & 0 & 0 & 0 & 1 & -41.50 & Philadelphia\\\\\n",
       "\\end{tabular}\n"
      ],
      "text/markdown": [
       "\n",
       "A data.frame: 6 × 14\n",
       "\n",
       "| <!--/--> | d &lt;int&gt; | d_nj &lt;int&gt; | fte &lt;dbl&gt; | bk &lt;int&gt; | kfc &lt;int&gt; | roys &lt;int&gt; | wendys &lt;int&gt; | co_owned &lt;int&gt; | centralj &lt;int&gt; | southj &lt;int&gt; | pa1 &lt;int&gt; | pa2 &lt;int&gt; | demp &lt;dbl&gt; | State &lt;chr&gt; |\n",
       "|---|---|---|---|---|---|---|---|---|---|---|---|---|---|---|\n",
       "| 694 | 1 | 0 | 24.0 | 1 | 0 | 0 | 0 | 0 | 0 | 0 | 1 | 0 | -16.50 | Philadelphia |\n",
       "| 695 | 1 | 0 | 11.5 | 0 | 1 | 0 | 0 | 0 | 0 | 0 | 1 | 0 |  -2.25 | Philadelphia |\n",
       "| 696 | 1 | 0 | 10.5 | 0 | 1 | 0 | 0 | 1 | 0 | 0 | 1 | 0 |   2.00 | Philadelphia |\n",
       "| 697 | 1 | 0 | 20.0 | 0 | 0 | 0 | 1 | 1 | 0 | 0 | 1 | 0 | -14.00 | Philadelphia |\n",
       "| 698 | 1 | 0 | 35.5 | 0 | 0 | 0 | 1 | 1 | 0 | 0 | 1 | 0 |  11.50 | Philadelphia |\n",
       "| 699 | 1 | 0 | 29.0 | 1 | 0 | 0 | 0 | 0 | 0 | 0 | 0 | 1 | -41.50 | Philadelphia |\n",
       "\n"
      ],
      "text/plain": [
       "    d d_nj fte  bk kfc roys wendys co_owned centralj southj pa1 pa2 demp  \n",
       "694 1 0    24.0 1  0   0    0      0        0        0      1   0   -16.50\n",
       "695 1 0    11.5 0  1   0    0      0        0        0      1   0    -2.25\n",
       "696 1 0    10.5 0  1   0    0      1        0        0      1   0     2.00\n",
       "697 1 0    20.0 0  0   0    1      1        0        0      1   0   -14.00\n",
       "698 1 0    35.5 0  0   0    1      1        0        0      1   0    11.50\n",
       "699 1 0    29.0 1  0   0    0      0        0        0      0   1   -41.50\n",
       "    State       \n",
       "694 Philadelphia\n",
       "695 Philadelphia\n",
       "696 Philadelphia\n",
       "697 Philadelphia\n",
       "698 Philadelphia\n",
       "699 Philadelphia"
      ]
     },
     "metadata": {},
     "output_type": "display_data"
    },
    {
     "data": {
      "text/html": [
       "<table>\n",
       "<caption>A data.frame: 6 × 14</caption>\n",
       "<thead>\n",
       "\t<tr><th></th><th scope=col>d</th><th scope=col>d_nj</th><th scope=col>fte</th><th scope=col>bk</th><th scope=col>kfc</th><th scope=col>roys</th><th scope=col>wendys</th><th scope=col>co_owned</th><th scope=col>centralj</th><th scope=col>southj</th><th scope=col>pa1</th><th scope=col>pa2</th><th scope=col>demp</th><th scope=col>State</th></tr>\n",
       "\t<tr><th></th><th scope=col>&lt;int&gt;</th><th scope=col>&lt;int&gt;</th><th scope=col>&lt;dbl&gt;</th><th scope=col>&lt;int&gt;</th><th scope=col>&lt;int&gt;</th><th scope=col>&lt;int&gt;</th><th scope=col>&lt;int&gt;</th><th scope=col>&lt;int&gt;</th><th scope=col>&lt;int&gt;</th><th scope=col>&lt;int&gt;</th><th scope=col>&lt;int&gt;</th><th scope=col>&lt;int&gt;</th><th scope=col>&lt;dbl&gt;</th><th scope=col>&lt;chr&gt;</th></tr>\n",
       "</thead>\n",
       "<tbody>\n",
       "\t<tr><th scope=row>1</th><td>0</td><td>0</td><td>15.00</td><td>1</td><td>0</td><td>0</td><td>0</td><td>0</td><td>1</td><td>0</td><td>0</td><td>0</td><td>12.00</td><td>New Jersey</td></tr>\n",
       "\t<tr><th scope=row>2</th><td>0</td><td>0</td><td>15.00</td><td>1</td><td>0</td><td>0</td><td>0</td><td>0</td><td>1</td><td>0</td><td>0</td><td>0</td><td> 6.50</td><td>New Jersey</td></tr>\n",
       "\t<tr><th scope=row>3</th><td>0</td><td>0</td><td>24.00</td><td>0</td><td>0</td><td>1</td><td>0</td><td>0</td><td>1</td><td>0</td><td>0</td><td>0</td><td>-1.00</td><td>New Jersey</td></tr>\n",
       "\t<tr><th scope=row>4</th><td>0</td><td>0</td><td>19.25</td><td>0</td><td>0</td><td>1</td><td>0</td><td>1</td><td>0</td><td>0</td><td>0</td><td>0</td><td> 2.25</td><td>New Jersey</td></tr>\n",
       "\t<tr><th scope=row>5</th><td>0</td><td>0</td><td>21.50</td><td>1</td><td>0</td><td>0</td><td>0</td><td>0</td><td>0</td><td>0</td><td>0</td><td>0</td><td>13.00</td><td>New Jersey</td></tr>\n",
       "\t<tr><th scope=row>6</th><td>0</td><td>0</td><td> 9.50</td><td>0</td><td>1</td><td>0</td><td>0</td><td>0</td><td>0</td><td>0</td><td>0</td><td>0</td><td> 1.00</td><td>New Jersey</td></tr>\n",
       "</tbody>\n",
       "</table>\n"
      ],
      "text/latex": [
       "A data.frame: 6 × 14\n",
       "\\begin{tabular}{r|llllllllllllll}\n",
       "  & d & d\\_nj & fte & bk & kfc & roys & wendys & co\\_owned & centralj & southj & pa1 & pa2 & demp & State\\\\\n",
       "  & <int> & <int> & <dbl> & <int> & <int> & <int> & <int> & <int> & <int> & <int> & <int> & <int> & <dbl> & <chr>\\\\\n",
       "\\hline\n",
       "\t1 & 0 & 0 & 15.00 & 1 & 0 & 0 & 0 & 0 & 1 & 0 & 0 & 0 & 12.00 & New Jersey\\\\\n",
       "\t2 & 0 & 0 & 15.00 & 1 & 0 & 0 & 0 & 0 & 1 & 0 & 0 & 0 &  6.50 & New Jersey\\\\\n",
       "\t3 & 0 & 0 & 24.00 & 0 & 0 & 1 & 0 & 0 & 1 & 0 & 0 & 0 & -1.00 & New Jersey\\\\\n",
       "\t4 & 0 & 0 & 19.25 & 0 & 0 & 1 & 0 & 1 & 0 & 0 & 0 & 0 &  2.25 & New Jersey\\\\\n",
       "\t5 & 0 & 0 & 21.50 & 1 & 0 & 0 & 0 & 0 & 0 & 0 & 0 & 0 & 13.00 & New Jersey\\\\\n",
       "\t6 & 0 & 0 &  9.50 & 0 & 1 & 0 & 0 & 0 & 0 & 0 & 0 & 0 &  1.00 & New Jersey\\\\\n",
       "\\end{tabular}\n"
      ],
      "text/markdown": [
       "\n",
       "A data.frame: 6 × 14\n",
       "\n",
       "| <!--/--> | d &lt;int&gt; | d_nj &lt;int&gt; | fte &lt;dbl&gt; | bk &lt;int&gt; | kfc &lt;int&gt; | roys &lt;int&gt; | wendys &lt;int&gt; | co_owned &lt;int&gt; | centralj &lt;int&gt; | southj &lt;int&gt; | pa1 &lt;int&gt; | pa2 &lt;int&gt; | demp &lt;dbl&gt; | State &lt;chr&gt; |\n",
       "|---|---|---|---|---|---|---|---|---|---|---|---|---|---|---|\n",
       "| 1 | 0 | 0 | 15.00 | 1 | 0 | 0 | 0 | 0 | 1 | 0 | 0 | 0 | 12.00 | New Jersey |\n",
       "| 2 | 0 | 0 | 15.00 | 1 | 0 | 0 | 0 | 0 | 1 | 0 | 0 | 0 |  6.50 | New Jersey |\n",
       "| 3 | 0 | 0 | 24.00 | 0 | 0 | 1 | 0 | 0 | 1 | 0 | 0 | 0 | -1.00 | New Jersey |\n",
       "| 4 | 0 | 0 | 19.25 | 0 | 0 | 1 | 0 | 1 | 0 | 0 | 0 | 0 |  2.25 | New Jersey |\n",
       "| 5 | 0 | 0 | 21.50 | 1 | 0 | 0 | 0 | 0 | 0 | 0 | 0 | 0 | 13.00 | New Jersey |\n",
       "| 6 | 0 | 0 |  9.50 | 0 | 1 | 0 | 0 | 0 | 0 | 0 | 0 | 0 |  1.00 | New Jersey |\n",
       "\n"
      ],
      "text/plain": [
       "  d d_nj fte   bk kfc roys wendys co_owned centralj southj pa1 pa2 demp \n",
       "1 0 0    15.00 1  0   0    0      0        1        0      0   0   12.00\n",
       "2 0 0    15.00 1  0   0    0      0        1        0      0   0    6.50\n",
       "3 0 0    24.00 0  0   1    0      0        1        0      0   0   -1.00\n",
       "4 0 0    19.25 0  0   1    0      1        0        0      0   0    2.25\n",
       "5 0 0    21.50 1  0   0    0      0        0        0      0   0   13.00\n",
       "6 0 0     9.50 0  1   0    0      0        0        0      0   0    1.00\n",
       "  State     \n",
       "1 New Jersey\n",
       "2 New Jersey\n",
       "3 New Jersey\n",
       "4 New Jersey\n",
       "5 New Jersey\n",
       "6 New Jersey"
      ]
     },
     "metadata": {},
     "output_type": "display_data"
    },
    {
     "data": {
      "text/html": [
       "<table>\n",
       "<caption>A data.frame: 6 × 14</caption>\n",
       "<thead>\n",
       "\t<tr><th></th><th scope=col>d</th><th scope=col>d_nj</th><th scope=col>fte</th><th scope=col>bk</th><th scope=col>kfc</th><th scope=col>roys</th><th scope=col>wendys</th><th scope=col>co_owned</th><th scope=col>centralj</th><th scope=col>southj</th><th scope=col>pa1</th><th scope=col>pa2</th><th scope=col>demp</th><th scope=col>State</th></tr>\n",
       "\t<tr><th></th><th scope=col>&lt;int&gt;</th><th scope=col>&lt;int&gt;</th><th scope=col>&lt;dbl&gt;</th><th scope=col>&lt;int&gt;</th><th scope=col>&lt;int&gt;</th><th scope=col>&lt;int&gt;</th><th scope=col>&lt;int&gt;</th><th scope=col>&lt;int&gt;</th><th scope=col>&lt;int&gt;</th><th scope=col>&lt;int&gt;</th><th scope=col>&lt;int&gt;</th><th scope=col>&lt;int&gt;</th><th scope=col>&lt;dbl&gt;</th><th scope=col>&lt;chr&gt;</th></tr>\n",
       "</thead>\n",
       "<tbody>\n",
       "\t<tr><th scope=row>310</th><td>1</td><td>1</td><td>27.0</td><td>1</td><td>0</td><td>0</td><td>0</td><td>0</td><td>1</td><td>0</td><td>0</td><td>0</td><td>12.00</td><td>New Jersey</td></tr>\n",
       "\t<tr><th scope=row>311</th><td>1</td><td>1</td><td>21.5</td><td>1</td><td>0</td><td>0</td><td>0</td><td>0</td><td>1</td><td>0</td><td>0</td><td>0</td><td> 6.50</td><td>New Jersey</td></tr>\n",
       "\t<tr><th scope=row>312</th><td>1</td><td>1</td><td>23.0</td><td>0</td><td>0</td><td>1</td><td>0</td><td>0</td><td>1</td><td>0</td><td>0</td><td>0</td><td>-1.00</td><td>New Jersey</td></tr>\n",
       "\t<tr><th scope=row>313</th><td>1</td><td>1</td><td>21.5</td><td>0</td><td>0</td><td>1</td><td>0</td><td>1</td><td>0</td><td>0</td><td>0</td><td>0</td><td> 2.25</td><td>New Jersey</td></tr>\n",
       "\t<tr><th scope=row>314</th><td>1</td><td>1</td><td>34.5</td><td>1</td><td>0</td><td>0</td><td>0</td><td>0</td><td>0</td><td>0</td><td>0</td><td>0</td><td>13.00</td><td>New Jersey</td></tr>\n",
       "\t<tr><th scope=row>315</th><td>1</td><td>1</td><td>10.5</td><td>0</td><td>1</td><td>0</td><td>0</td><td>0</td><td>0</td><td>0</td><td>0</td><td>0</td><td> 1.00</td><td>New Jersey</td></tr>\n",
       "</tbody>\n",
       "</table>\n"
      ],
      "text/latex": [
       "A data.frame: 6 × 14\n",
       "\\begin{tabular}{r|llllllllllllll}\n",
       "  & d & d\\_nj & fte & bk & kfc & roys & wendys & co\\_owned & centralj & southj & pa1 & pa2 & demp & State\\\\\n",
       "  & <int> & <int> & <dbl> & <int> & <int> & <int> & <int> & <int> & <int> & <int> & <int> & <int> & <dbl> & <chr>\\\\\n",
       "\\hline\n",
       "\t310 & 1 & 1 & 27.0 & 1 & 0 & 0 & 0 & 0 & 1 & 0 & 0 & 0 & 12.00 & New Jersey\\\\\n",
       "\t311 & 1 & 1 & 21.5 & 1 & 0 & 0 & 0 & 0 & 1 & 0 & 0 & 0 &  6.50 & New Jersey\\\\\n",
       "\t312 & 1 & 1 & 23.0 & 0 & 0 & 1 & 0 & 0 & 1 & 0 & 0 & 0 & -1.00 & New Jersey\\\\\n",
       "\t313 & 1 & 1 & 21.5 & 0 & 0 & 1 & 0 & 1 & 0 & 0 & 0 & 0 &  2.25 & New Jersey\\\\\n",
       "\t314 & 1 & 1 & 34.5 & 1 & 0 & 0 & 0 & 0 & 0 & 0 & 0 & 0 & 13.00 & New Jersey\\\\\n",
       "\t315 & 1 & 1 & 10.5 & 0 & 1 & 0 & 0 & 0 & 0 & 0 & 0 & 0 &  1.00 & New Jersey\\\\\n",
       "\\end{tabular}\n"
      ],
      "text/markdown": [
       "\n",
       "A data.frame: 6 × 14\n",
       "\n",
       "| <!--/--> | d &lt;int&gt; | d_nj &lt;int&gt; | fte &lt;dbl&gt; | bk &lt;int&gt; | kfc &lt;int&gt; | roys &lt;int&gt; | wendys &lt;int&gt; | co_owned &lt;int&gt; | centralj &lt;int&gt; | southj &lt;int&gt; | pa1 &lt;int&gt; | pa2 &lt;int&gt; | demp &lt;dbl&gt; | State &lt;chr&gt; |\n",
       "|---|---|---|---|---|---|---|---|---|---|---|---|---|---|---|\n",
       "| 310 | 1 | 1 | 27.0 | 1 | 0 | 0 | 0 | 0 | 1 | 0 | 0 | 0 | 12.00 | New Jersey |\n",
       "| 311 | 1 | 1 | 21.5 | 1 | 0 | 0 | 0 | 0 | 1 | 0 | 0 | 0 |  6.50 | New Jersey |\n",
       "| 312 | 1 | 1 | 23.0 | 0 | 0 | 1 | 0 | 0 | 1 | 0 | 0 | 0 | -1.00 | New Jersey |\n",
       "| 313 | 1 | 1 | 21.5 | 0 | 0 | 1 | 0 | 1 | 0 | 0 | 0 | 0 |  2.25 | New Jersey |\n",
       "| 314 | 1 | 1 | 34.5 | 1 | 0 | 0 | 0 | 0 | 0 | 0 | 0 | 0 | 13.00 | New Jersey |\n",
       "| 315 | 1 | 1 | 10.5 | 0 | 1 | 0 | 0 | 0 | 0 | 0 | 0 | 0 |  1.00 | New Jersey |\n",
       "\n"
      ],
      "text/plain": [
       "    d d_nj fte  bk kfc roys wendys co_owned centralj southj pa1 pa2 demp \n",
       "310 1 1    27.0 1  0   0    0      0        1        0      0   0   12.00\n",
       "311 1 1    21.5 1  0   0    0      0        1        0      0   0    6.50\n",
       "312 1 1    23.0 0  0   1    0      0        1        0      0   0   -1.00\n",
       "313 1 1    21.5 0  0   1    0      1        0        0      0   0    2.25\n",
       "314 1 1    34.5 1  0   0    0      0        0        0      0   0   13.00\n",
       "315 1 1    10.5 0  1   0    0      0        0        0      0   0    1.00\n",
       "    State     \n",
       "310 New Jersey\n",
       "311 New Jersey\n",
       "312 New Jersey\n",
       "313 New Jersey\n",
       "314 New Jersey\n",
       "315 New Jersey"
      ]
     },
     "metadata": {},
     "output_type": "display_data"
    }
   ],
   "source": [
    "# SOLUTION BEGINS HERE\n",
    "raw <- read.csv(\"../resource/asnlib/publicdata/Min_Wage.csv\")\n",
    "\n",
    "control_before = subset(raw , d == 0 & State != \"New Jersey\")\n",
    "control_after = subset(raw , d == 1 & State != \"New Jersey\")\n",
    "treatment_before = subset(raw , d == 0 & State == \"New Jersey\")\n",
    "treatment_after = subset(raw , d == 1 & State == \"New Jersey\")\n",
    "\n",
    "head(control_before)\n",
    "head(control_after)\n",
    "head(treatment_before)\n",
    "head(treatment_after)\n",
    "# SOLUTION ENDS HERE"
   ]
  },
  {
   "cell_type": "markdown",
   "metadata": {},
   "source": [
    "From the Above output\n",
    "\n",
    "- control_before represents group A which consists of workers from the control group before the treatment. This group here consists of workers not from New Jersey before law was changed\n",
    "- treatment_before represents group B which consists of workers from the treatment group before the treatment. This group here consists of workers from New Jersey before law was changed\n",
    "- control_after represents group C which consists of workers from the control group after the treatment. This group here consists of workers not from New Jersey after law was changed\n",
    "- treatment_after represents group D which consists of workers from the control group after the treatment. This group here consists of workers from New Jersey after law was changed\n"
   ]
  },
  {
   "cell_type": "markdown",
   "metadata": {
    "deletable": false,
    "editable": false,
    "nbgrader": {
     "grade": false,
     "locked": true,
     "solution": false
    }
   },
   "source": [
    "### D. To estimate the difference in difference we need four averages for the above categorized groups i.e., control group before change, control group after change, treatment group before change and treatment group after change. Compute the following: (7 Points)"
   ]
  },
  {
   "cell_type": "markdown",
   "metadata": {
    "deletable": false,
    "editable": false,
    "nbgrader": {
     "grade": false,
     "locked": true,
     "solution": false
    }
   },
   "source": [
    "#### i. Calculate the mean of the 'fte' variable for each of the four groups in R and print them. (4 Points)"
   ]
  },
  {
   "cell_type": "code",
   "execution_count": 4,
   "metadata": {},
   "outputs": [
    {
     "data": {
      "text/html": [
       "23.38"
      ],
      "text/latex": [
       "23.38"
      ],
      "text/markdown": [
       "23.38"
      ],
      "text/plain": [
       "[1] 23.38"
      ]
     },
     "metadata": {},
     "output_type": "display_data"
    },
    {
     "data": {
      "text/html": [
       "21.0966666666667"
      ],
      "text/latex": [
       "21.0966666666667"
      ],
      "text/markdown": [
       "21.0966666666667"
      ],
      "text/plain": [
       "[1] 21.09667"
      ]
     },
     "metadata": {},
     "output_type": "display_data"
    },
    {
     "data": {
      "text/html": [
       "20.4305825242718"
      ],
      "text/latex": [
       "20.4305825242718"
      ],
      "text/markdown": [
       "20.4305825242718"
      ],
      "text/plain": [
       "[1] 20.43058"
      ]
     },
     "metadata": {},
     "output_type": "display_data"
    },
    {
     "data": {
      "text/html": [
       "20.8972491909385"
      ],
      "text/latex": [
       "20.8972491909385"
      ],
      "text/markdown": [
       "20.8972491909385"
      ],
      "text/plain": [
       "[1] 20.89725"
      ]
     },
     "metadata": {},
     "output_type": "display_data"
    }
   ],
   "source": [
    "# SOLUTION BEGINS HERE\n",
    "mean(control_before$fte)\n",
    "mean(control_after$fte)\n",
    "mean(treatment_before$fte)\n",
    "mean(treatment_after$fte)\n",
    "\n",
    "# SOLUTION ENDS HERE"
   ]
  },
  {
   "cell_type": "markdown",
   "metadata": {
    "deletable": false,
    "editable": false,
    "nbgrader": {
     "grade": false,
     "locked": true,
     "solution": false
    }
   },
   "source": [
    "#### ii. Using these averages, estimate the value of the difference in difference. (3 Points)"
   ]
  },
  {
   "cell_type": "code",
   "execution_count": 5,
   "metadata": {},
   "outputs": [
    {
     "data": {
      "text/html": [
       "2.75"
      ],
      "text/latex": [
       "2.75"
      ],
      "text/markdown": [
       "2.75"
      ],
      "text/plain": [
       "[1] 2.75"
      ]
     },
     "metadata": {},
     "output_type": "display_data"
    }
   ],
   "source": [
    "# SOLUTION BEGINS HERE\n",
    "(mean(treatment_after$fte)-mean(control_after$fte))-(mean(treatment_before$fte)-mean(control_before$fte))\n",
    "#(mean(treatment_after$fte)-mean(treatment_before$fte))-(mean(control_after$fte)-mean(control_before$fte))\n",
    "# SOLUTION ENDS HERE"
   ]
  },
  {
   "cell_type": "markdown",
   "metadata": {},
   "source": [
    "The difference in difference estimator computed using the mean values is 2.75 "
   ]
  },
  {
   "cell_type": "markdown",
   "metadata": {
    "deletable": false,
    "editable": false,
    "nbgrader": {
     "grade": false,
     "locked": true,
     "solution": false
    }
   },
   "source": [
    "### E.  Estimate the DID (Difference in Difference) using regression model.  (4 Points)"
   ]
  },
  {
   "cell_type": "code",
   "execution_count": 6,
   "metadata": {},
   "outputs": [
    {
     "data": {
      "text/plain": [
       "\n",
       "Call:\n",
       "lm(formula = fte ~ d, data = raw_control)\n",
       "\n",
       "Residuals:\n",
       "    Min      1Q  Median      3Q     Max \n",
       "-21.097  -7.097  -2.238   4.832  47.120 \n",
       "\n",
       "Coefficients:\n",
       "            Estimate Std. Error t value Pr(>|t|)    \n",
       "(Intercept)   23.380      1.196   19.56   <2e-16 ***\n",
       "d             -2.283      1.691   -1.35    0.179    \n",
       "---\n",
       "Signif. codes:  0 ‘***’ 0.001 ‘**’ 0.01 ‘*’ 0.05 ‘.’ 0.1 ‘ ’ 1\n",
       "\n",
       "Residual standard error: 10.35 on 148 degrees of freedom\n",
       "Multiple R-squared:  0.01217,\tAdjusted R-squared:  0.005498 \n",
       "F-statistic: 1.824 on 1 and 148 DF,  p-value: 0.1789\n"
      ]
     },
     "metadata": {},
     "output_type": "display_data"
    },
    {
     "data": {
      "text/plain": [
       "\n",
       "Call:\n",
       "lm(formula = fte ~ d, data = raw_treatment)\n",
       "\n",
       "Residuals:\n",
       "    Min      1Q  Median      3Q     Max \n",
       "-20.897  -6.431  -0.897   4.569  64.569 \n",
       "\n",
       "Coefficients:\n",
       "            Estimate Std. Error t value Pr(>|t|)    \n",
       "(Intercept)  20.4306     0.5289  38.627   <2e-16 ***\n",
       "d             0.4667     0.7480   0.624    0.533    \n",
       "---\n",
       "Signif. codes:  0 ‘***’ 0.001 ‘**’ 0.01 ‘*’ 0.05 ‘.’ 0.1 ‘ ’ 1\n",
       "\n",
       "Residual standard error: 9.298 on 616 degrees of freedom\n",
       "Multiple R-squared:  0.0006315,\tAdjusted R-squared:  -0.0009909 \n",
       "F-statistic: 0.3892 on 1 and 616 DF,  p-value: 0.5329\n"
      ]
     },
     "metadata": {},
     "output_type": "display_data"
    },
    {
     "data": {
      "text/plain": [
       "\n",
       "Call:\n",
       "lm(formula = fte ~ d + nj + d_nj, data = raw)\n",
       "\n",
       "Residuals:\n",
       "    Min      1Q  Median      3Q     Max \n",
       "-21.097  -6.472  -0.931   4.603  64.569 \n",
       "\n",
       "Coefficients:\n",
       "            Estimate Std. Error t value Pr(>|t|)    \n",
       "(Intercept)   23.380      1.098  21.288   <2e-16 ***\n",
       "d             -2.283      1.553  -1.470   0.1419    \n",
       "nj            -2.949      1.224  -2.409   0.0162 *  \n",
       "d_nj           2.750      1.731   1.588   0.1126    \n",
       "---\n",
       "Signif. codes:  0 ‘***’ 0.001 ‘**’ 0.01 ‘*’ 0.05 ‘.’ 0.1 ‘ ’ 1\n",
       "\n",
       "Residual standard error: 9.511 on 764 degrees of freedom\n",
       "Multiple R-squared:  0.007587,\tAdjusted R-squared:  0.00369 \n",
       "F-statistic: 1.947 on 3 and 764 DF,  p-value: 0.1206\n"
      ]
     },
     "metadata": {},
     "output_type": "display_data"
    }
   ],
   "source": [
    "# SOLUTION BEGINS HERE\n",
    "raw <- raw %>%\n",
    "  mutate(nj = ifelse(State == \"New Jersey\", 1, 0))\n",
    "\n",
    "raw_treatment <- subset(raw , State == \"New Jersey\")\n",
    "raw_control <- subset(raw , State != \"New Jersey\")\n",
    "\n",
    "# Method 1\n",
    "model1 <- lm(fte ~ d, data=raw_control)\n",
    "model2 <- lm(fte ~ d, data=raw_treatment)\n",
    "summary(model1)\n",
    "summary(model2)\n",
    "\n",
    "#Method2\n",
    "model3 <- lm(fte ~ d+nj+d_nj, data=raw)\n",
    "summary(model3)\n",
    "\n",
    "# SOLUTION ENDS HERE"
   ]
  },
  {
   "cell_type": "markdown",
   "metadata": {},
   "source": [
    "There are 2 methods to calculate difference in difference estimator \n",
    "- In the first method we separate the Treatment and control group data set and model the data using \"D\" which is the independent variable. When we subtract the coefficient of \"D\" from Treatment group to control group we get Diff in Diff estimator. 0.4667-(-2.283 )= 2.750\n",
    "- In the second method we model using d, nj & d_nj as indepndent variables. The coefficient d_nj is the Diff in Diff estimator which is equal to 2.750"
   ]
  },
  {
   "cell_type": "markdown",
   "metadata": {
    "deletable": false,
    "editable": false,
    "nbgrader": {
     "grade": false,
     "locked": true,
     "solution": false
    }
   },
   "source": [
    "## Q2.  (10 Points Total)\n",
    "\n",
    "For the following questions, use the dataset Berkshire.csv with the following variables:  \n",
    "\n",
    "||Column Name |Description|\n",
    "|------|------|------|\n",
    "|1|Date|Calendar Date|\n",
    "|2|BRKret|Berkshire Hathaway’s monthly return|\n",
    "|3|MKT|the return on the aggregate stock market|\n",
    "|4|RF|the risk free rate of return|\n",
    "\n",
    "You may/may not need the following dependencies:  \n",
    "\n",
    "“lubridate” package which is already installed in R in Vocareum.\n",
    "\n",
    "“PerformanceAnalytics” package which can be installed as indicated at the beginning of this homework.\n",
    "\n",
    "\n",
    "**Note: The file \"Berkshire.csv\" can be accessed at the path: (\"../resource/asnlib/publicdata/Berkshire.csv\").\n",
    "E.g. read.csv(\"../resource/asnlib/publicdata/Berkshire.csv\")**\n",
    "\n",
    "**Return data is in decimal format, 0.01=1%.  Round all answers to the nearest hundredth, for example 12.34%.  **"
   ]
  },
  {
   "cell_type": "markdown",
   "metadata": {
    "deletable": false,
    "editable": false,
    "nbgrader": {
     "grade": false,
     "locked": true,
     "solution": false
    }
   },
   "source": [
    "### A. Find the standard deviation of Berkshire Hathaway over the sample period. (2 Points)"
   ]
  },
  {
   "cell_type": "code",
   "execution_count": 7,
   "metadata": {},
   "outputs": [
    {
     "name": "stderr",
     "output_type": "stream",
     "text": [
      "Loading required package: xts\n",
      "\n",
      "Loading required package: zoo\n",
      "\n",
      "\n",
      "Attaching package: ‘zoo’\n",
      "\n",
      "\n",
      "The following objects are masked from ‘package:base’:\n",
      "\n",
      "    as.Date, as.Date.numeric\n",
      "\n",
      "\n",
      "\n",
      "Attaching package: ‘xts’\n",
      "\n",
      "\n",
      "The following objects are masked from ‘package:dplyr’:\n",
      "\n",
      "    first, last\n",
      "\n",
      "\n",
      "\n",
      "Attaching package: ‘PerformanceAnalytics’\n",
      "\n",
      "\n",
      "The following object is masked from ‘package:graphics’:\n",
      "\n",
      "    legend\n",
      "\n",
      "\n",
      "\n",
      "Attaching package: ‘lubridate’\n",
      "\n",
      "\n",
      "The following objects are masked from ‘package:base’:\n",
      "\n",
      "    date, intersect, setdiff, union\n",
      "\n",
      "\n"
     ]
    },
    {
     "data": {
      "text/html": [
       "<table>\n",
       "<caption>A data.frame: 6 × 4</caption>\n",
       "<thead>\n",
       "\t<tr><th></th><th scope=col>Date</th><th scope=col>BrkRet</th><th scope=col>MKT</th><th scope=col>RF</th></tr>\n",
       "\t<tr><th></th><th scope=col>&lt;chr&gt;</th><th scope=col>&lt;dbl&gt;</th><th scope=col>&lt;dbl&gt;</th><th scope=col>&lt;dbl&gt;</th></tr>\n",
       "</thead>\n",
       "<tbody>\n",
       "\t<tr><th scope=row>1</th><td>11/30/1976</td><td> 0.1544</td><td> 0.0076</td><td>0.0040</td></tr>\n",
       "\t<tr><th scope=row>2</th><td>12/31/1976</td><td> 0.1465</td><td> 0.0605</td><td>0.0040</td></tr>\n",
       "\t<tr><th scope=row>3</th><td>1/31/1977 </td><td> 0.0000</td><td>-0.0369</td><td>0.0036</td></tr>\n",
       "\t<tr><th scope=row>4</th><td>2/28/1977 </td><td> 0.0000</td><td>-0.0160</td><td>0.0035</td></tr>\n",
       "\t<tr><th scope=row>5</th><td>3/31/1977 </td><td> 0.0778</td><td>-0.0099</td><td>0.0038</td></tr>\n",
       "\t<tr><th scope=row>6</th><td>4/30/1977 </td><td>-0.0103</td><td> 0.0053</td><td>0.0038</td></tr>\n",
       "</tbody>\n",
       "</table>\n"
      ],
      "text/latex": [
       "A data.frame: 6 × 4\n",
       "\\begin{tabular}{r|llll}\n",
       "  & Date & BrkRet & MKT & RF\\\\\n",
       "  & <chr> & <dbl> & <dbl> & <dbl>\\\\\n",
       "\\hline\n",
       "\t1 & 11/30/1976 &  0.1544 &  0.0076 & 0.0040\\\\\n",
       "\t2 & 12/31/1976 &  0.1465 &  0.0605 & 0.0040\\\\\n",
       "\t3 & 1/31/1977  &  0.0000 & -0.0369 & 0.0036\\\\\n",
       "\t4 & 2/28/1977  &  0.0000 & -0.0160 & 0.0035\\\\\n",
       "\t5 & 3/31/1977  &  0.0778 & -0.0099 & 0.0038\\\\\n",
       "\t6 & 4/30/1977  & -0.0103 &  0.0053 & 0.0038\\\\\n",
       "\\end{tabular}\n"
      ],
      "text/markdown": [
       "\n",
       "A data.frame: 6 × 4\n",
       "\n",
       "| <!--/--> | Date &lt;chr&gt; | BrkRet &lt;dbl&gt; | MKT &lt;dbl&gt; | RF &lt;dbl&gt; |\n",
       "|---|---|---|---|---|\n",
       "| 1 | 11/30/1976 |  0.1544 |  0.0076 | 0.0040 |\n",
       "| 2 | 12/31/1976 |  0.1465 |  0.0605 | 0.0040 |\n",
       "| 3 | 1/31/1977  |  0.0000 | -0.0369 | 0.0036 |\n",
       "| 4 | 2/28/1977  |  0.0000 | -0.0160 | 0.0035 |\n",
       "| 5 | 3/31/1977  |  0.0778 | -0.0099 | 0.0038 |\n",
       "| 6 | 4/30/1977  | -0.0103 |  0.0053 | 0.0038 |\n",
       "\n"
      ],
      "text/plain": [
       "  Date       BrkRet  MKT     RF    \n",
       "1 11/30/1976  0.1544  0.0076 0.0040\n",
       "2 12/31/1976  0.1465  0.0605 0.0040\n",
       "3 1/31/1977   0.0000 -0.0369 0.0036\n",
       "4 2/28/1977   0.0000 -0.0160 0.0035\n",
       "5 3/31/1977   0.0778 -0.0099 0.0038\n",
       "6 4/30/1977  -0.0103  0.0053 0.0038"
      ]
     },
     "metadata": {},
     "output_type": "display_data"
    },
    {
     "data": {
      "text/html": [
       "0.07"
      ],
      "text/latex": [
       "0.07"
      ],
      "text/markdown": [
       "0.07"
      ],
      "text/plain": [
       "[1] 0.07"
      ]
     },
     "metadata": {},
     "output_type": "display_data"
    }
   ],
   "source": [
    "# SOLUTION BEGINS HERE\n",
    "library(PerformanceAnalytics)\n",
    "library(xts)\n",
    "library(lubridate)\n",
    "\n",
    "raw <- read.csv(\"../resource/asnlib/publicdata/Berkshire.csv\")\n",
    "head(raw)\n",
    "std_dev <- round(sd(raw$BrkRet),2)\n",
    "std_dev\n",
    "# SOLUTION ENDS HERE"
   ]
  },
  {
   "cell_type": "markdown",
   "metadata": {
    "deletable": false,
    "editable": false,
    "nbgrader": {
     "grade": false,
     "locked": true,
     "solution": false
    }
   },
   "source": [
    "### B. Find Berkshire Hathaway’s average return over the sample period,  use arithmetic average. (2 Points)\n",
    "    \n",
    "    "
   ]
  },
  {
   "cell_type": "code",
   "execution_count": 8,
   "metadata": {},
   "outputs": [
    {
     "data": {
      "text/html": [
       "0.02"
      ],
      "text/latex": [
       "0.02"
      ],
      "text/markdown": [
       "0.02"
      ],
      "text/plain": [
       "[1] 0.02"
      ]
     },
     "metadata": {},
     "output_type": "display_data"
    }
   ],
   "source": [
    "# SOLUTION BEGINS HERE\n",
    "avg <- round(mean(raw$BrkRet),2)\n",
    "avg\n",
    "# SOLUTION ENDS HERE"
   ]
  },
  {
   "cell_type": "markdown",
   "metadata": {
    "deletable": false,
    "editable": false,
    "nbgrader": {
     "grade": false,
     "locked": true,
     "solution": false
    }
   },
   "source": [
    "### C. By what percentage per month on average has Berkshire Hathaway outperformed the market? (2 Points)"
   ]
  },
  {
   "cell_type": "code",
   "execution_count": 9,
   "metadata": {},
   "outputs": [
    {
     "data": {
      "text/html": [
       "0.01"
      ],
      "text/latex": [
       "0.01"
      ],
      "text/markdown": [
       "0.01"
      ],
      "text/plain": [
       "[1] 0.01"
      ]
     },
     "metadata": {},
     "output_type": "display_data"
    }
   ],
   "source": [
    "# SOLUTION BEGINS HERE\n",
    "raw <- raw %>%\n",
    "  mutate(BrkMkt = BrkRet-MKT)\n",
    "x <- round(mean(raw$BrkMkt),2)\n",
    "x\n",
    "# SOLUTION ENDS HERE"
   ]
  },
  {
   "cell_type": "markdown",
   "metadata": {
    "deletable": false,
    "editable": false,
    "nbgrader": {
     "grade": false,
     "locked": true,
     "solution": false
    }
   },
   "source": [
    "### D. If $10,000 were invested in Berkshire Hathaway at the start of the sample period, how much would the investment have grown to by the end of the sample period? (2 Points)"
   ]
  },
  {
   "cell_type": "code",
   "execution_count": 10,
   "metadata": {},
   "outputs": [
    {
     "data": {
      "text/html": [
       "41439895.5476566"
      ],
      "text/latex": [
       "41439895.5476566"
      ],
      "text/markdown": [
       "41439895.5476566"
      ],
      "text/plain": [
       "[1] 41439896"
      ]
     },
     "metadata": {},
     "output_type": "display_data"
    }
   ],
   "source": [
    "# SOLUTION BEGINS HERE\n",
    "y <- Return.cumulative(raw$BrkRet,geometric = TRUE)\n",
    "10000*y\n",
    "# SOLUTION ENDS HERE"
   ]
  },
  {
   "cell_type": "markdown",
   "metadata": {},
   "source": [
    "If $10,000 were invested in Berkshire Hathaway at the start of the sample period, it would have grown to 41439895.55 by the end of sample period"
   ]
  },
  {
   "cell_type": "markdown",
   "metadata": {
    "deletable": false,
    "editable": false,
    "nbgrader": {
     "grade": false,
     "locked": true,
     "solution": false
    }
   },
   "source": [
    "### E. Plot the cumulative return of Berkshire and Market across all years and include a legend. Describe your observation. (2 Points)"
   ]
  },
  {
   "cell_type": "code",
   "execution_count": 11,
   "metadata": {},
   "outputs": [
    {
     "data": {
      "text/html": [
       "<table>\n",
       "<caption>A data.frame: 6 × 4</caption>\n",
       "<thead>\n",
       "\t<tr><th></th><th scope=col>Date</th><th scope=col>BrkRet</th><th scope=col>MKT</th><th scope=col>RF</th></tr>\n",
       "\t<tr><th></th><th scope=col>&lt;date&gt;</th><th scope=col>&lt;dbl&gt;</th><th scope=col>&lt;dbl&gt;</th><th scope=col>&lt;dbl&gt;</th></tr>\n",
       "</thead>\n",
       "<tbody>\n",
       "\t<tr><th scope=row>1</th><td>1976-11-30</td><td> 0.1544</td><td> 0.0076</td><td>0.0040</td></tr>\n",
       "\t<tr><th scope=row>2</th><td>1976-12-31</td><td> 0.1465</td><td> 0.0605</td><td>0.0040</td></tr>\n",
       "\t<tr><th scope=row>3</th><td>1977-01-31</td><td> 0.0000</td><td>-0.0369</td><td>0.0036</td></tr>\n",
       "\t<tr><th scope=row>4</th><td>1977-02-28</td><td> 0.0000</td><td>-0.0160</td><td>0.0035</td></tr>\n",
       "\t<tr><th scope=row>5</th><td>1977-03-31</td><td> 0.0778</td><td>-0.0099</td><td>0.0038</td></tr>\n",
       "\t<tr><th scope=row>6</th><td>1977-04-30</td><td>-0.0103</td><td> 0.0053</td><td>0.0038</td></tr>\n",
       "</tbody>\n",
       "</table>\n"
      ],
      "text/latex": [
       "A data.frame: 6 × 4\n",
       "\\begin{tabular}{r|llll}\n",
       "  & Date & BrkRet & MKT & RF\\\\\n",
       "  & <date> & <dbl> & <dbl> & <dbl>\\\\\n",
       "\\hline\n",
       "\t1 & 1976-11-30 &  0.1544 &  0.0076 & 0.0040\\\\\n",
       "\t2 & 1976-12-31 &  0.1465 &  0.0605 & 0.0040\\\\\n",
       "\t3 & 1977-01-31 &  0.0000 & -0.0369 & 0.0036\\\\\n",
       "\t4 & 1977-02-28 &  0.0000 & -0.0160 & 0.0035\\\\\n",
       "\t5 & 1977-03-31 &  0.0778 & -0.0099 & 0.0038\\\\\n",
       "\t6 & 1977-04-30 & -0.0103 &  0.0053 & 0.0038\\\\\n",
       "\\end{tabular}\n"
      ],
      "text/markdown": [
       "\n",
       "A data.frame: 6 × 4\n",
       "\n",
       "| <!--/--> | Date &lt;date&gt; | BrkRet &lt;dbl&gt; | MKT &lt;dbl&gt; | RF &lt;dbl&gt; |\n",
       "|---|---|---|---|---|\n",
       "| 1 | 1976-11-30 |  0.1544 |  0.0076 | 0.0040 |\n",
       "| 2 | 1976-12-31 |  0.1465 |  0.0605 | 0.0040 |\n",
       "| 3 | 1977-01-31 |  0.0000 | -0.0369 | 0.0036 |\n",
       "| 4 | 1977-02-28 |  0.0000 | -0.0160 | 0.0035 |\n",
       "| 5 | 1977-03-31 |  0.0778 | -0.0099 | 0.0038 |\n",
       "| 6 | 1977-04-30 | -0.0103 |  0.0053 | 0.0038 |\n",
       "\n"
      ],
      "text/plain": [
       "  Date       BrkRet  MKT     RF    \n",
       "1 1976-11-30  0.1544  0.0076 0.0040\n",
       "2 1976-12-31  0.1465  0.0605 0.0040\n",
       "3 1977-01-31  0.0000 -0.0369 0.0036\n",
       "4 1977-02-28  0.0000 -0.0160 0.0035\n",
       "5 1977-03-31  0.0778 -0.0099 0.0038\n",
       "6 1977-04-30 -0.0103  0.0053 0.0038"
      ]
     },
     "metadata": {},
     "output_type": "display_data"
    },
    {
     "data": {
      "image/png": "[encoded data removed]",
      "text/plain": [
       "plot without title"
      ]
     },
     "metadata": {
      "image/png": {
       "height": 420,
       "width": 420
      }
     },
     "output_type": "display_data"
    }
   ],
   "source": [
    "# SOLUTION BEGINS HERE\n",
    "raw <- read.csv(\"../resource/asnlib/publicdata/Berkshire.csv\")\n",
    "raw$Date <- mdy(raw$Date)\n",
    "#Sorting data by dates\n",
    "raw2<- raw[order(raw$Date),]\n",
    "head(raw2)\n",
    "raw_xts <- xts(raw2[,-1],order.by = raw2[,1],)\n",
    "\n",
    "chart.CumReturns(raw_xts$BrkRet,wealth.index = FALSE, geometric = TRUE)\n",
    "\n",
    "# SOLUTION ENDS HERE"
   ]
  },
  {
   "cell_type": "code",
   "execution_count": null,
   "metadata": {
    "collapsed": true
   },
   "outputs": [],
   "source": []
  }
 ],
 "metadata": {
  "kernelspec": {
   "display_name": "R 4.0.2",
   "language": "R",
   "name": "ir-4.0.2"
  },
  "language_info": {
   "codemirror_mode": "r",
   "file_extension": ".r",
   "mimetype": "text/x-r-source",
   "name": "R",
   "pygments_lexer": "r",
   "version": "4.0.2"
  }
 },
 "nbformat": 4,
 "nbformat_minor": 2
}
