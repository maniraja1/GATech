{
 "cells": [
  {
   "cell_type": "markdown",
   "metadata": {
    "deletable": false,
    "editable": false,
    "nbgrader": {
     "grade": false,
     "locked": true,
     "solution": false
    }
   },
   "source": [
    "# HW1 Part 2"
   ]
  },
  {
   "cell_type": "markdown",
   "metadata": {
    "deletable": false,
    "editable": false,
    "nbgrader": {
     "grade": false,
     "locked": true,
     "solution": false
    }
   },
   "source": [
    "## Instructions:\n",
    "\n",
    "**For the rest of the semester, we will be using Vocareum to work on and submit your homework assignments. Vocareum is a cloud platform for programming classes. It provides an infrastructure that allows us to move the educational aspects like assignments, exams, quizzes, etc, to the cloud. The merit of this platform is that all of you will be working in the same coding environment. This way we can eliminate many issues we might encounter when working on an individual basis, such as those with library installations and RStudio malfunctions. Some you you might be new to this platform, here we provided a few things to keep in mind to get you started, please try to read through them.**\n",
    "\n",
    "**Things to keep in mind:**\n",
    "\n",
    "\n",
    "<ol>\n",
    "<li>Even though we are moving from your local envrionment to the cloud, **our expectations from your homework will stay the same**. Same goes for the rubrics.</li>\n",
    "\n",
    "<li>Vocareum has its own cloud based file system, the data files you will be using for the assignments will be stored in the cloud with path **\"../resource/asnlib/publicdata/FILENAME.csv\"**. You will be able to import them with the same method as you do in RStudio, simply substitute the path name to the one specified in the instructions. You won't be able to modify these data files.</li>\n",
    "\n",
    "<li>You will be able to find the data files on Canvas/EdX if you would like to explore them offline.</li>\n",
    "\n",
    "<li>**For coding questions, you will be graded on the R code as well as the output** in your submission.</li>\n",
    "\n",
    "<li>**For interpretations or short response questions, please type the answers in the notebook's markdown cells**. To change a code cell to a markdown cell, click on the cell, and in the dropdown menu above, switch the type of the cell block from \"code\" to \"markdown\". **Adding print statements to code cells for short response/interpretation questions is also fine, as long as we can clearly see the output of your response**.</li>\n",
    "\n",
    "<li>You don't need to, but if you would like to learn more about how to format your markdown cells, visit the following site: https://www.earthdatascience.org/courses/intro-to-earth-data-science/file-formats/use-text-files/format-text-with-markdown-jupyter-notebook/. Jupyter notebook also support LaTeX.</li>\n",
    "\n",
    "<li>**Feel free to add as many additional cells as you need**. But please keep your solution to a question directly under that question to aviod confusions.</li>\n",
    "\n",
    "<li>You may delete the #SOLUTION BEGINS/ENDS HERE comments from the cell blocks, they are just pointers that indicates where to put you solutions.</li>\n",
    "\n",
    "<li>When you have finished the assignment, remember to rerun your notebook to check if it runs correctly. You can do so by going to **Kernel-> Restart & Run All**. You may lose points if your solutions does not run successfully.</li>\n",
    "\n",
    "<li>**Click the \"Submit\" button on the top right corner to turn in your assignment**. Your assignment will enter the next phase for peer review.</li>\n",
    "\n",
    "<li>**You are allowed a total of 2 submissions for this assignment. So make sure that you submit your responses carefully. You will be able to come back and resubmit your assignment as long as it is before the start of the peer review period.</li>\n",
    "\n",
    "<li>**Please remember to finish the peer reviews after you have submitted your assignment.** You are responsible for grading the work of three of your peers thoroughly, and in addherence to the rubrics. And you will be held accountable for peer grading. **There will be a 30% penalty to your grade if you fail to complete one or more peer reviews in proper fashion.**</li>\n",
    "\n",
    "<li>This is the first time we implement this homework system in the MGT6203, feel free to address your questions, concerns, and provide any feedback on Piazza. We will continuously try to improve going forward.</li>\n",
    "\n",
    "<li>Good Luck!</li>\n",
    "\n",
    "</ol>\n",
    "\n",
    "\n",
    "\n",
    "\n",
    "</ol>\n",
    "\n"
   ]
  },
  {
   "cell_type": "markdown",
   "metadata": {
    "deletable": false,
    "editable": false,
    "nbgrader": {
     "grade": false,
     "locked": true,
     "solution": false
    }
   },
   "source": [
    "# About Package Installation:\n",
    "\n",
    "Most of the packages (if not all) that you will need to complete this assignment are already installed in this environment. An easy way to check this is to run the command: library(PackageName). If this command runs successfully then the package was already installed and has been successfully attached to the code. If the command gave an error saying the Package was not found then follow the steps below to successfully install the package and attach it to the code: \n",
    "\n",
    "Use *installed.packages()* command to return a table of the packages that are preinstalled in the environment.\n",
    "\n",
    "To attach a preinstalled library in Vocareum, simply use *library(PackageName)*\n",
    "\n",
    "**To install a package that does not come with the provided environment, please use the following syntax:**\n",
    "\n",
    "*install.packages(\"PackageName\", lib=\"../work/\")*\n",
    "\n",
    "**To attach a library you just installed, use the following syntax:**\n",
    "\n",
    "*library(PackageName, lib.loc=\"../work/\")*\n",
    "\n",
    "Make sure the file location is the same as the above code snippets *(\"../work/\")*"
   ]
  },
  {
   "cell_type": "markdown",
   "metadata": {
    "deletable": false,
    "editable": false,
    "nbgrader": {
     "grade": false,
     "locked": true,
     "solution": false
    }
   },
   "source": [
    "## Q1. Use the *\"airbnb_data.csv\"* provided and answer the following questions on Linear Regression:\n",
    "\n",
    "**Instruction: The file \"airbnb_data.csv\" can be accessed at the path: (\"../resource/asnlib/publicdata/airbnb_data.csv\")**"
   ]
  },
  {
   "cell_type": "markdown",
   "metadata": {
    "deletable": false,
    "editable": false,
    "nbgrader": {
     "grade": false,
     "locked": true,
     "solution": false
    }
   },
   "source": [
    "a) Remove ‘id’columns (‘room_id’, ‘survey_id’, ‘host_id’) and ‘city’ from your dataset, and fit a multiple linear regression model using price as the response variable and all others as predictor variables.  (Note: Do not fit a model using id columns and city as predictors). Which variables are statistically significant at a 95% confidence interval.  (4 point)"
   ]
  },
  {
   "cell_type": "code",
   "execution_count": 20,
   "metadata": {},
   "outputs": [
    {
     "data": {
      "text/html": [
       "<table>\n",
       "<caption>A data.frame: 6 × 6</caption>\n",
       "<thead>\n",
       "\t<tr><th scope=col>room_type</th><th scope=col>reviews</th><th scope=col>overall_satisfaction</th><th scope=col>accommodates</th><th scope=col>bedrooms</th><th scope=col>price</th></tr>\n",
       "\t<tr><th scope=col>&lt;fct&gt;</th><th scope=col>&lt;int&gt;</th><th scope=col>&lt;dbl&gt;</th><th scope=col>&lt;int&gt;</th><th scope=col>&lt;int&gt;</th><th scope=col>&lt;int&gt;</th></tr>\n",
       "</thead>\n",
       "<tbody>\n",
       "\t<tr><td>Shared room</td><td>  0</td><td>0.0</td><td>4</td><td>1</td><td>67</td></tr>\n",
       "\t<tr><td>Shared room</td><td> 32</td><td>5.0</td><td>4</td><td>1</td><td>76</td></tr>\n",
       "\t<tr><td>Shared room</td><td>  4</td><td>4.5</td><td>2</td><td>1</td><td>45</td></tr>\n",
       "\t<tr><td>Shared room</td><td> 24</td><td>4.5</td><td>6</td><td>1</td><td>26</td></tr>\n",
       "\t<tr><td>Shared room</td><td>152</td><td>4.5</td><td>6</td><td>1</td><td>26</td></tr>\n",
       "\t<tr><td>Shared room</td><td> 20</td><td>4.5</td><td>4</td><td>1</td><td>26</td></tr>\n",
       "</tbody>\n",
       "</table>\n"
      ],
      "text/latex": [
       "A data.frame: 6 × 6\n",
       "\\begin{tabular}{r|llllll}\n",
       " room\\_type & reviews & overall\\_satisfaction & accommodates & bedrooms & price\\\\\n",
       " <fct> & <int> & <dbl> & <int> & <int> & <int>\\\\\n",
       "\\hline\n",
       "\t Shared room &   0 & 0.0 & 4 & 1 & 67\\\\\n",
       "\t Shared room &  32 & 5.0 & 4 & 1 & 76\\\\\n",
       "\t Shared room &   4 & 4.5 & 2 & 1 & 45\\\\\n",
       "\t Shared room &  24 & 4.5 & 6 & 1 & 26\\\\\n",
       "\t Shared room & 152 & 4.5 & 6 & 1 & 26\\\\\n",
       "\t Shared room &  20 & 4.5 & 4 & 1 & 26\\\\\n",
       "\\end{tabular}\n"
      ],
      "text/markdown": [
       "\n",
       "A data.frame: 6 × 6\n",
       "\n",
       "| room_type &lt;fct&gt; | reviews &lt;int&gt; | overall_satisfaction &lt;dbl&gt; | accommodates &lt;int&gt; | bedrooms &lt;int&gt; | price &lt;int&gt; |\n",
       "|---|---|---|---|---|---|\n",
       "| Shared room |   0 | 0.0 | 4 | 1 | 67 |\n",
       "| Shared room |  32 | 5.0 | 4 | 1 | 76 |\n",
       "| Shared room |   4 | 4.5 | 2 | 1 | 45 |\n",
       "| Shared room |  24 | 4.5 | 6 | 1 | 26 |\n",
       "| Shared room | 152 | 4.5 | 6 | 1 | 26 |\n",
       "| Shared room |  20 | 4.5 | 4 | 1 | 26 |\n",
       "\n"
      ],
      "text/plain": [
       "  room_type   reviews overall_satisfaction accommodates bedrooms price\n",
       "1 Shared room   0     0.0                  4            1        67   \n",
       "2 Shared room  32     5.0                  4            1        76   \n",
       "3 Shared room   4     4.5                  2            1        45   \n",
       "4 Shared room  24     4.5                  6            1        26   \n",
       "5 Shared room 152     4.5                  6            1        26   \n",
       "6 Shared room  20     4.5                  4            1        26   "
      ]
     },
     "metadata": {},
     "output_type": "display_data"
    },
    {
     "data": {
      "text/plain": [
       "\n",
       "Call:\n",
       "lm(formula = price ~ ., data = data)\n",
       "\n",
       "Residuals:\n",
       "   Min     1Q Median     3Q    Max \n",
       "-367.8  -49.2    3.2   38.6 4032.7 \n",
       "\n",
       "Coefficients:\n",
       "                       Estimate Std. Error t value Pr(>|t|)    \n",
       "(Intercept)           -23.36172   21.88618  -1.067  0.28609    \n",
       "room_typePrivate room  -0.93115   13.21827  -0.070  0.94386    \n",
       "room_typeShared room  -76.66780   59.90939  -1.280  0.20099    \n",
       "reviews                 0.01090    0.09982   0.109  0.91310    \n",
       "overall_satisfaction  -10.48160    3.47320  -3.018  0.00262 ** \n",
       "accommodates           23.00721    5.23952   4.391 1.27e-05 ***\n",
       "bedrooms               85.64533   11.45983   7.474 1.95e-13 ***\n",
       "---\n",
       "Signif. codes:  0 ‘***’ 0.001 ‘**’ 0.01 ‘*’ 0.05 ‘.’ 0.1 ‘ ’ 1\n",
       "\n",
       "Residual standard error: 167.1 on 847 degrees of freedom\n",
       "Multiple R-squared:  0.3228,\tAdjusted R-squared:  0.318 \n",
       "F-statistic:  67.3 on 6 and 847 DF,  p-value: < 2.2e-16\n"
      ]
     },
     "metadata": {},
     "output_type": "display_data"
    }
   ],
   "source": [
    "# SOLUTION BEGINS HERE\n",
    "#Read RAW data\n",
    "data_raw = read.csv(\"../resource/asnlib/publicdata/airbnb_data.csv\", header = TRUE)\n",
    "\n",
    "#Select subset of columns excluding id columns & city\n",
    "data <- data_raw[,c('room_type', 'reviews', 'overall_satisfaction','accommodates','bedrooms','price')]\n",
    "head(data)\n",
    "# Run the model \n",
    "model = lm(price ~ ., data=data)\n",
    "summary(model)\n",
    "\n",
    "# SOLUTION ENDS HERE"
   ]
  },
  {
   "cell_type": "markdown",
   "metadata": {},
   "source": [
    "Based on the model output above, the most significant independent variables are\n",
    "[overall_satisfaction, accommodates,bedrooms]. Since these variables have a Pr(>|t|) or less than 0.05 which means there is a less than 5% chance that the T value can be equal to greater than the current value"
   ]
  },
  {
   "cell_type": "code",
   "execution_count": 11,
   "metadata": {},
   "outputs": [
    {
     "data": {
      "text/html": [
       "<table>\n",
       "<caption>A data.frame: 3 × 2</caption>\n",
       "<thead>\n",
       "\t<tr><th scope=col>Group.1</th><th scope=col>x</th></tr>\n",
       "\t<tr><th scope=col>&lt;fct&gt;</th><th scope=col>&lt;int&gt;</th></tr>\n",
       "</thead>\n",
       "<tbody>\n",
       "\t<tr><td>Entire home/apt</td><td>512</td></tr>\n",
       "\t<tr><td>Private room   </td><td>334</td></tr>\n",
       "\t<tr><td>Shared room    </td><td>  8</td></tr>\n",
       "</tbody>\n",
       "</table>\n"
      ],
      "text/latex": [
       "A data.frame: 3 × 2\n",
       "\\begin{tabular}{r|ll}\n",
       " Group.1 & x\\\\\n",
       " <fct> & <int>\\\\\n",
       "\\hline\n",
       "\t Entire home/apt & 512\\\\\n",
       "\t Private room    & 334\\\\\n",
       "\t Shared room     &   8\\\\\n",
       "\\end{tabular}\n"
      ],
      "text/markdown": [
       "\n",
       "A data.frame: 3 × 2\n",
       "\n",
       "| Group.1 &lt;fct&gt; | x &lt;int&gt; |\n",
       "|---|---|\n",
       "| Entire home/apt | 512 |\n",
       "| Private room    | 334 |\n",
       "| Shared room     |   8 |\n",
       "\n"
      ],
      "text/plain": [
       "  Group.1         x  \n",
       "1 Entire home/apt 512\n",
       "2 Private room    334\n",
       "3 Shared room       8"
      ]
     },
     "metadata": {},
     "output_type": "display_data"
    }
   ],
   "source": [
    "# Listing all the unique room type and aggregating rows counts\n",
    "aggregate(data$room_type, by = list(data$room_type), FUN = length)"
   ]
  },
  {
   "cell_type": "markdown",
   "metadata": {
    "deletable": false,
    "editable": false,
    "nbgrader": {
     "grade": false,
     "locked": true,
     "solution": false
    }
   },
   "source": [
    "b) Interpret the coefficients for predictors: 'room_type', 'bedrooms'. (4 points)"
   ]
  },
  {
   "cell_type": "markdown",
   "metadata": {},
   "source": [
    "When running lm() on th above dataset, R automatically converts room_type which is of type Factor to dummy variables\n",
    "\n",
    "room_typePrivate room, Coefficient: -0.93115\n",
    "room_typeShared room, Coefficient: -76.66780\n",
    "\n",
    "The Base case here is Entire home/apt. If all other variables are kept the same with a \n",
    "Private room price drops by -0.93115 over Entire home/apt\n",
    "Shared room\tprice drops by -76.66780 over Entire home/apt\n",
    "\n",
    "Bedrooms is an integer column and one of the significant factors in estimating the price. Each Bedroom adds 85.64533 to the property price"
   ]
  },
  {
   "cell_type": "markdown",
   "metadata": {
    "deletable": false,
    "editable": false,
    "nbgrader": {
     "grade": false,
     "locked": true,
     "solution": false
    }
   },
   "source": [
    "c) Predict the price (nearest dollar) for a listing with the following factors: 'bedrooms' = 1, 'accommodates' = 2, 'reviews' = 70, 'overall_satisfaction' = 4, and 'room_type' = 'Private room'. (4 points)\n",
    "\n",
    "\n",
    "\n",
    "|bedrooms|accomodates|reviews|overall_satisfaction|room_type|\n",
    "|------|------|------|-------|------|------|\n",
    "|1|2|70|4|Private room|\n"
   ]
  },
  {
   "cell_type": "code",
   "execution_count": 22,
   "metadata": {},
   "outputs": [
    {
     "data": {
      "text/html": [
       "66.20348"
      ],
      "text/latex": [
       "66.20348"
      ],
      "text/markdown": [
       "66.20348"
      ],
      "text/plain": [
       "[1] 66.20348"
      ]
     },
     "metadata": {},
     "output_type": "display_data"
    },
    {
     "data": {
      "text/html": [
       "<strong>1:</strong> 66.2031622509052"
      ],
      "text/latex": [
       "\\textbf{1:} 66.2031622509052"
      ],
      "text/markdown": [
       "**1:** 66.2031622509052"
      ],
      "text/plain": [
       "       1 \n",
       "66.20316 "
      ]
     },
     "metadata": {},
     "output_type": "display_data"
    }
   ],
   "source": [
    "# SOLUTION BEGINS HERE\n",
    "# Predict Price for the given dataset\n",
    "\n",
    "test<-data.frame(bedrooms = 1,accommodates = 2, reviews = 70, overall_satisfaction= 4,room_type='Private room')\n",
    "predict(model, test)\n",
    "# SOLUTION ENDS HERE"
   ]
  },
  {
   "cell_type": "markdown",
   "metadata": {
    "deletable": false,
    "editable": false,
    "nbgrader": {
     "grade": false,
     "locked": true,
     "solution": false
    }
   },
   "source": [
    "d) Identify outliers using Cook's distance approach. Remove points having Cook's distance > 1. Rerun the model after the removal of these points and print the summary. (4 points)"
   ]
  },
  {
   "cell_type": "code",
   "execution_count": 13,
   "metadata": {},
   "outputs": [
    {
     "data": {
      "text/plain": [
       "\n",
       "Call:\n",
       "lm(formula = price ~ ., data = data_new)\n",
       "\n",
       "Residuals:\n",
       "    Min      1Q  Median      3Q     Max \n",
       "-190.95  -32.43   -7.09   20.35  876.26 \n",
       "\n",
       "Coefficients:\n",
       "                       Estimate Std. Error t value Pr(>|t|)    \n",
       "(Intercept)            75.01310    9.09152   8.251 6.01e-16 ***\n",
       "room_typePrivate room -32.28201    5.38034  -6.000 2.92e-09 ***\n",
       "room_typeShared room  -91.69951   24.28958  -3.775 0.000171 ***\n",
       "reviews                -0.05915    0.04047  -1.462 0.144202    \n",
       "overall_satisfaction   -6.78957    1.41118  -4.811 1.78e-06 ***\n",
       "accommodates           11.90698    2.14267   5.557 3.68e-08 ***\n",
       "bedrooms               35.93177    4.87968   7.364 4.25e-13 ***\n",
       "---\n",
       "Signif. codes:  0 ‘***’ 0.001 ‘**’ 0.01 ‘*’ 0.05 ‘.’ 0.1 ‘ ’ 1\n",
       "\n",
       "Residual standard error: 67.73 on 845 degrees of freedom\n",
       "Multiple R-squared:  0.4249,\tAdjusted R-squared:  0.4208 \n",
       "F-statistic:   104 on 6 and 845 DF,  p-value: < 2.2e-16\n"
      ]
     },
     "metadata": {},
     "output_type": "display_data"
    },
    {
     "data": {
      "image/png": "[encoded data removed]",
      "text/plain": [
       "Plot with title “Cooks Distance for Influential Obs”"
      ]
     },
     "metadata": {},
     "output_type": "display_data"
    }
   ],
   "source": [
    "# SOLUTION BEGINS HERE\n",
    "# Estimate cook's distance for all data points and plot the graph\n",
    "cooksD <- cooks.distance(model)\n",
    "n <- nrow(data)\n",
    "plot(cooksD, main = \"Cooks Distance for Influential Obs\")\n",
    "abline(h = 1, lty = 2, col = \"steelblue\") # add cutoff line\n",
    "\n",
    "# Identify all points where distance > 1\n",
    "influential_obs <- as.numeric(names(cooksD)[(cooksD > 1)])\n",
    "\n",
    "#Remove influential points\n",
    "data_new <- data[-influential_obs, ]\n",
    "\n",
    "#Run the Model with influential points removed\n",
    "model2 = lm(price ~ ., data=data_new)\n",
    "summary(model2)\n",
    "# SOLUTION ENDS HERE"
   ]
  },
  {
   "cell_type": "markdown",
   "metadata": {
    "deletable": false,
    "editable": false,
    "nbgrader": {
     "grade": false,
     "locked": true,
     "solution": false
    }
   },
   "source": [
    "## Q2. Use the *\"direct_marketing.csv\"* provided and answer the following questions on Linear Regression:\n",
    "\n",
    "**Create indicator variables for the 'History' column. Considering the base case as None (i.e., create Low, Medium and High variables with 1 denoting the positive case and 0 the negative) and few additional variables LowSalary, MediumSalary and HighSalary based on the customer history type i.e., MediumSalary = Medium*Salary etc.**\n",
    "\n",
    "**Instruction: The dataset \"direct_marketing.csv\" can be accessed at the path: (\"../resource/asnlib/publicdata/direct_marketing.csv\")**\n"
   ]
  },
  {
   "cell_type": "markdown",
   "metadata": {
    "deletable": false,
    "editable": false,
    "nbgrader": {
     "grade": false,
     "locked": true,
     "solution": false
    }
   },
   "source": [
    "a) Fit a multiple linear regression model using 'AmountSpent' as the response variable and the indicator variables along with their salary variables as the predictors: (4 points)\n",
    "\n",
    "$$AmountSpent = \\beta_0 + \\beta_1Salary + \\beta_2Low + \\beta_3Medium + \\beta_4High + \\beta_5LowSalary + \\beta_6MediumSalary + \\beta_7HighSalary$$"
   ]
  },
  {
   "cell_type": "code",
   "execution_count": 14,
   "metadata": {},
   "outputs": [
    {
     "data": {
      "text/html": [
       "<table>\n",
       "<caption>A data.frame: 6 × 16</caption>\n",
       "<thead>\n",
       "\t<tr><th scope=col>Age</th><th scope=col>Gender</th><th scope=col>OwnHome</th><th scope=col>Married</th><th scope=col>Location</th><th scope=col>Salary</th><th scope=col>Children</th><th scope=col>History</th><th scope=col>Catalogs</th><th scope=col>AmountSpent</th><th scope=col>Low</th><th scope=col>Medium</th><th scope=col>High</th><th scope=col>LowSalary</th><th scope=col>MediumSalary</th><th scope=col>HighSalary</th></tr>\n",
       "\t<tr><th scope=col>&lt;fct&gt;</th><th scope=col>&lt;fct&gt;</th><th scope=col>&lt;fct&gt;</th><th scope=col>&lt;fct&gt;</th><th scope=col>&lt;fct&gt;</th><th scope=col>&lt;int&gt;</th><th scope=col>&lt;int&gt;</th><th scope=col>&lt;fct&gt;</th><th scope=col>&lt;int&gt;</th><th scope=col>&lt;dbl&gt;</th><th scope=col>&lt;dbl&gt;</th><th scope=col>&lt;dbl&gt;</th><th scope=col>&lt;dbl&gt;</th><th scope=col>&lt;dbl&gt;</th><th scope=col>&lt;dbl&gt;</th><th scope=col>&lt;dbl&gt;</th></tr>\n",
       "</thead>\n",
       "<tbody>\n",
       "\t<tr><td>Old   </td><td>Female</td><td>Own </td><td>Single </td><td>Far  </td><td>47500</td><td>0</td><td>High</td><td> 6</td><td> 75.5</td><td>0</td><td>0</td><td>1</td><td>    0</td><td>0</td><td>47500</td></tr>\n",
       "\t<tr><td>Middle</td><td>Male  </td><td>Rent</td><td>Single </td><td>Close</td><td>63600</td><td>0</td><td>High</td><td> 6</td><td>131.8</td><td>0</td><td>0</td><td>1</td><td>    0</td><td>0</td><td>63600</td></tr>\n",
       "\t<tr><td>Young </td><td>Female</td><td>Rent</td><td>Single </td><td>Close</td><td>13500</td><td>0</td><td>Low </td><td>18</td><td> 29.6</td><td>1</td><td>0</td><td>0</td><td>13500</td><td>0</td><td>    0</td></tr>\n",
       "\t<tr><td>Middle</td><td>Male  </td><td>Own </td><td>Married</td><td>Close</td><td>85600</td><td>1</td><td>High</td><td>18</td><td>243.6</td><td>0</td><td>0</td><td>1</td><td>    0</td><td>0</td><td>85600</td></tr>\n",
       "\t<tr><td>Middle</td><td>Female</td><td>Own </td><td>Single </td><td>Close</td><td>68400</td><td>0</td><td>High</td><td>12</td><td>130.4</td><td>0</td><td>0</td><td>1</td><td>    0</td><td>0</td><td>68400</td></tr>\n",
       "\t<tr><td>Young </td><td>Male  </td><td>Own </td><td>Married</td><td>Close</td><td>30400</td><td>0</td><td>Low </td><td> 6</td><td> 49.5</td><td>1</td><td>0</td><td>0</td><td>30400</td><td>0</td><td>    0</td></tr>\n",
       "</tbody>\n",
       "</table>\n"
      ],
      "text/latex": [
       "A data.frame: 6 × 16\n",
       "\\begin{tabular}{r|llllllllllllllll}\n",
       " Age & Gender & OwnHome & Married & Location & Salary & Children & History & Catalogs & AmountSpent & Low & Medium & High & LowSalary & MediumSalary & HighSalary\\\\\n",
       " <fct> & <fct> & <fct> & <fct> & <fct> & <int> & <int> & <fct> & <int> & <dbl> & <dbl> & <dbl> & <dbl> & <dbl> & <dbl> & <dbl>\\\\\n",
       "\\hline\n",
       "\t Old    & Female & Own  & Single  & Far   & 47500 & 0 & High &  6 &  75.5 & 0 & 0 & 1 &     0 & 0 & 47500\\\\\n",
       "\t Middle & Male   & Rent & Single  & Close & 63600 & 0 & High &  6 & 131.8 & 0 & 0 & 1 &     0 & 0 & 63600\\\\\n",
       "\t Young  & Female & Rent & Single  & Close & 13500 & 0 & Low  & 18 &  29.6 & 1 & 0 & 0 & 13500 & 0 &     0\\\\\n",
       "\t Middle & Male   & Own  & Married & Close & 85600 & 1 & High & 18 & 243.6 & 0 & 0 & 1 &     0 & 0 & 85600\\\\\n",
       "\t Middle & Female & Own  & Single  & Close & 68400 & 0 & High & 12 & 130.4 & 0 & 0 & 1 &     0 & 0 & 68400\\\\\n",
       "\t Young  & Male   & Own  & Married & Close & 30400 & 0 & Low  &  6 &  49.5 & 1 & 0 & 0 & 30400 & 0 &     0\\\\\n",
       "\\end{tabular}\n"
      ],
      "text/markdown": [
       "\n",
       "A data.frame: 6 × 16\n",
       "\n",
       "| Age &lt;fct&gt; | Gender &lt;fct&gt; | OwnHome &lt;fct&gt; | Married &lt;fct&gt; | Location &lt;fct&gt; | Salary &lt;int&gt; | Children &lt;int&gt; | History &lt;fct&gt; | Catalogs &lt;int&gt; | AmountSpent &lt;dbl&gt; | Low &lt;dbl&gt; | Medium &lt;dbl&gt; | High &lt;dbl&gt; | LowSalary &lt;dbl&gt; | MediumSalary &lt;dbl&gt; | HighSalary &lt;dbl&gt; |\n",
       "|---|---|---|---|---|---|---|---|---|---|---|---|---|---|---|---|\n",
       "| Old    | Female | Own  | Single  | Far   | 47500 | 0 | High |  6 |  75.5 | 0 | 0 | 1 |     0 | 0 | 47500 |\n",
       "| Middle | Male   | Rent | Single  | Close | 63600 | 0 | High |  6 | 131.8 | 0 | 0 | 1 |     0 | 0 | 63600 |\n",
       "| Young  | Female | Rent | Single  | Close | 13500 | 0 | Low  | 18 |  29.6 | 1 | 0 | 0 | 13500 | 0 |     0 |\n",
       "| Middle | Male   | Own  | Married | Close | 85600 | 1 | High | 18 | 243.6 | 0 | 0 | 1 |     0 | 0 | 85600 |\n",
       "| Middle | Female | Own  | Single  | Close | 68400 | 0 | High | 12 | 130.4 | 0 | 0 | 1 |     0 | 0 | 68400 |\n",
       "| Young  | Male   | Own  | Married | Close | 30400 | 0 | Low  |  6 |  49.5 | 1 | 0 | 0 | 30400 | 0 |     0 |\n",
       "\n"
      ],
      "text/plain": [
       "  Age    Gender OwnHome Married Location Salary Children History Catalogs\n",
       "1 Old    Female Own     Single  Far      47500  0        High     6      \n",
       "2 Middle Male   Rent    Single  Close    63600  0        High     6      \n",
       "3 Young  Female Rent    Single  Close    13500  0        Low     18      \n",
       "4 Middle Male   Own     Married Close    85600  1        High    18      \n",
       "5 Middle Female Own     Single  Close    68400  0        High    12      \n",
       "6 Young  Male   Own     Married Close    30400  0        Low      6      \n",
       "  AmountSpent Low Medium High LowSalary MediumSalary HighSalary\n",
       "1  75.5       0   0      1        0     0            47500     \n",
       "2 131.8       0   0      1        0     0            63600     \n",
       "3  29.6       1   0      0    13500     0                0     \n",
       "4 243.6       0   0      1        0     0            85600     \n",
       "5 130.4       0   0      1        0     0            68400     \n",
       "6  49.5       1   0      0    30400     0                0     "
      ]
     },
     "metadata": {},
     "output_type": "display_data"
    },
    {
     "data": {
      "text/plain": [
       "\n",
       "Call:\n",
       "lm(formula = AmountSpent ~ Salary + Low + Medium + High + LowSalary + \n",
       "    MediumSalary + HighSalary, data = data)\n",
       "\n",
       "Residuals:\n",
       "    Min      1Q  Median      3Q     Max \n",
       "-214.33  -25.47   -6.46   20.64  352.50 \n",
       "\n",
       "Coefficients:\n",
       "               Estimate Std. Error t value Pr(>|t|)    \n",
       "(Intercept)   1.9622199  6.3880253   0.307 0.758777    \n",
       "Salary        0.0023641  0.0001071  22.083  < 2e-16 ***\n",
       "Low          25.4466733  8.9203292   2.853 0.004426 ** \n",
       "Medium       79.2984388 12.8982169   6.148 1.14e-09 ***\n",
       "High         72.6735221 15.2270169   4.773 2.09e-06 ***\n",
       "LowSalary    -0.0021069  0.0001890 -11.150  < 2e-16 ***\n",
       "MediumSalary -0.0021153  0.0002182  -9.693  < 2e-16 ***\n",
       "HighSalary   -0.0006408  0.0001926  -3.328 0.000908 ***\n",
       "---\n",
       "Signif. codes:  0 ‘***’ 0.001 ‘**’ 0.01 ‘*’ 0.05 ‘.’ 0.1 ‘ ’ 1\n",
       "\n",
       "Residual standard error: 55.79 on 992 degrees of freedom\n",
       "Multiple R-squared:  0.6654,\tAdjusted R-squared:  0.6631 \n",
       "F-statistic: 281.9 on 7 and 992 DF,  p-value: < 2.2e-16\n"
      ]
     },
     "metadata": {},
     "output_type": "display_data"
    }
   ],
   "source": [
    "# SOLUTION BEGINS HERE\n",
    "data = read.csv(\"../resource/asnlib/publicdata/direct_marketing.csv\", header = TRUE)\n",
    "\n",
    "data$Low <- 0\n",
    "data$Medium <- 0\n",
    "data$High <- 0\n",
    "data$LowSalary <- 0\n",
    "data$MediumSalary <- 0\n",
    "data$HighSalary <- 0\n",
    "\n",
    "data$Low[data$History == \"Low\"] <- 1\n",
    "data$Medium[data$History == \"Medium\"] <- 1\n",
    "data$High[data$History == \"High\"] <- 1\n",
    "\n",
    "data$LowSalary <- data$Low*data$Salary\n",
    "data$MediumSalary <- data$Medium*data$Salary\n",
    "data$HighSalary <- data$High*data$Salary\n",
    "\n",
    "head(data)\n",
    "\n",
    "model = lm(AmountSpent ~ Salary+Low+Medium+High+LowSalary+MediumSalary+HighSalary, data=data)\n",
    "summary(model)\n",
    "# SOLUTION ENDS HERE"
   ]
  },
  {
   "cell_type": "markdown",
   "metadata": {
    "deletable": false,
    "editable": false,
    "nbgrader": {
     "grade": false,
     "locked": true,
     "solution": false
    }
   },
   "source": [
    "b) What is the amount spent by a customer for each historic type (None, Low, Medium, and High) provided their salary is $10,000 based on the model constructed in part a? (4 points)\n",
    "    \n",
    "    \n",
    "    \n",
    "    \n",
    "    "
   ]
  },
  {
   "cell_type": "code",
   "execution_count": 15,
   "metadata": {},
   "outputs": [
    {
     "data": {
      "text/html": [
       "<strong>1:</strong> 25.603473247411"
      ],
      "text/latex": [
       "\\textbf{1:} 25.603473247411"
      ],
      "text/markdown": [
       "**1:** 25.603473247411"
      ],
      "text/plain": [
       "       1 \n",
       "25.60347 "
      ]
     },
     "metadata": {},
     "output_type": "display_data"
    },
    {
     "data": {
      "text/html": [
       "<strong>1:</strong> 29.9815735873686"
      ],
      "text/latex": [
       "\\textbf{1:} 29.9815735873686"
      ],
      "text/markdown": [
       "**1:** 29.9815735873686"
      ],
      "text/plain": [
       "       1 \n",
       "29.98157 "
      ]
     },
     "metadata": {},
     "output_type": "display_data"
    },
    {
     "data": {
      "text/html": [
       "<strong>1:</strong> 83.749086769995"
      ],
      "text/latex": [
       "\\textbf{1:} 83.749086769995"
      ],
      "text/markdown": [
       "**1:** 83.749086769995"
      ],
      "text/plain": [
       "       1 \n",
       "83.74909 "
      ]
     },
     "metadata": {},
     "output_type": "display_data"
    },
    {
     "data": {
      "text/html": [
       "<strong>1:</strong> 91.8687402713128"
      ],
      "text/latex": [
       "\\textbf{1:} 91.8687402713128"
      ],
      "text/markdown": [
       "**1:** 91.8687402713128"
      ],
      "text/plain": [
       "       1 \n",
       "91.86874 "
      ]
     },
     "metadata": {},
     "output_type": "display_data"
    }
   ],
   "source": [
    "# SOLUTION BEGINS HERE\n",
    "#History = None\n",
    "test<-data.frame(Salary = 10000,Low = 0, Medium = 0,High = 0,LowSalary = 0, MediumSalary = 0,HighSalary = 0)\n",
    "predict(model, test)\n",
    "\n",
    "#History = Low\n",
    "test<-data.frame(Salary = 10000,Low = 1, Medium = 0,High = 0,LowSalary = 10000, MediumSalary = 0,HighSalary = 0)\n",
    "predict(model, test)\n",
    "\n",
    "#History = Medium\n",
    "test<-data.frame(Salary = 10000,Low = 0, Medium = 1,High = 0,LowSalary = 0, MediumSalary = 10000,HighSalary = 0)\n",
    "predict(model, test)\n",
    "\n",
    "#History = High\n",
    "test<-data.frame(Salary = 10000,Low = 0, Medium = 0,High = 1,LowSalary = 0, MediumSalary = 0,HighSalary = 10000)\n",
    "predict(model, test)\n",
    "# SOLUTION ENDS HERE"
   ]
  },
  {
   "cell_type": "markdown",
   "metadata": {
    "deletable": false,
    "editable": false,
    "nbgrader": {
     "grade": false,
     "locked": true,
     "solution": false
    }
   },
   "source": [
    "**Use the *\"airbnb_data.csv\"* provided and answer the following questions (part c and part d) on Linear Regression.  DO NOT remove outliers from the dataset:  Perform Log transformation for the variables price and overall_satisfaction, make necessary transformations suggested in the class.**\n"
   ]
  },
  {
   "cell_type": "markdown",
   "metadata": {
    "deletable": false,
    "editable": false,
    "nbgrader": {
     "grade": false,
     "locked": true,
     "solution": false
    }
   },
   "source": [
    "c) Fit all four models i.e., linear-linear, linear-log, log-linear and log-log regression models using price as the response variable and overall_satisfaction as the predictor.  (Note: Because overall_satisfaction contains ‘0’ values, you will need to use log(x+1) transformations instead of log(x) transformations) (6 points)"
   ]
  },
  {
   "cell_type": "code",
   "execution_count": 16,
   "metadata": {},
   "outputs": [
    {
     "name": "stdout",
     "output_type": "stream",
     "text": [
      "[1] \"#################Linear-Linear model below #########################################\"\n"
     ]
    },
    {
     "data": {
      "text/plain": [
       "\n",
       "Call:\n",
       "lm(formula = price ~ overall_satisfaction, data = data)\n",
       "\n",
       "Residuals:\n",
       "   Min     1Q Median     3Q    Max \n",
       "-167.0  -51.3  -24.2   16.8 4805.0 \n",
       "\n",
       "Coefficients:\n",
       "                     Estimate Std. Error t value Pr(>|t|)    \n",
       "(Intercept)           194.967     17.698  11.016  < 2e-16 ***\n",
       "overall_satisfaction  -16.353      3.903  -4.189 3.09e-05 ***\n",
       "---\n",
       "Signif. codes:  0 ‘***’ 0.001 ‘**’ 0.01 ‘*’ 0.05 ‘.’ 0.1 ‘ ’ 1\n",
       "\n",
       "Residual standard error: 200.4 on 852 degrees of freedom\n",
       "Multiple R-squared:  0.02018,\tAdjusted R-squared:  0.01903 \n",
       "F-statistic: 17.55 on 1 and 852 DF,  p-value: 3.088e-05\n"
      ]
     },
     "metadata": {},
     "output_type": "display_data"
    },
    {
     "name": "stdout",
     "output_type": "stream",
     "text": [
      "[1] \"#################Linear-Log model below ############################################\"\n"
     ]
    },
    {
     "data": {
      "text/plain": [
       "\n",
       "Call:\n",
       "lm(formula = price ~ overall_satisfaction_log, data = data)\n",
       "\n",
       "Residuals:\n",
       "   Min     1Q Median     3Q    Max \n",
       "-168.5  -50.7  -24.7   16.3 4803.5 \n",
       "\n",
       "Coefficients:\n",
       "                         Estimate Std. Error t value Pr(>|t|)    \n",
       "(Intercept)                196.46      17.76  11.062  < 2e-16 ***\n",
       "overall_satisfaction_log   -46.20      10.84  -4.263 2.24e-05 ***\n",
       "---\n",
       "Signif. codes:  0 ‘***’ 0.001 ‘**’ 0.01 ‘*’ 0.05 ‘.’ 0.1 ‘ ’ 1\n",
       "\n",
       "Residual standard error: 200.4 on 852 degrees of freedom\n",
       "Multiple R-squared:  0.02089,\tAdjusted R-squared:  0.01974 \n",
       "F-statistic: 18.18 on 1 and 852 DF,  p-value: 2.239e-05\n"
      ]
     },
     "metadata": {},
     "output_type": "display_data"
    },
    {
     "name": "stdout",
     "output_type": "stream",
     "text": [
      "[1] \"#################Log-Linear model below #############################################\"\n"
     ]
    },
    {
     "data": {
      "text/plain": [
       "\n",
       "Call:\n",
       "lm(formula = price_log ~ overall_satisfaction, data = data)\n",
       "\n",
       "Residuals:\n",
       "    Min      1Q  Median      3Q     Max \n",
       "-1.6234 -0.3525 -0.0432  0.3302  3.7220 \n",
       "\n",
       "Coefficients:\n",
       "                     Estimate Std. Error t value Pr(>|t|)    \n",
       "(Intercept)           4.79515    0.05083  94.339  < 2e-16 ***\n",
       "overall_satisfaction -0.04401    0.01121  -3.926 9.33e-05 ***\n",
       "---\n",
       "Signif. codes:  0 ‘***’ 0.001 ‘**’ 0.01 ‘*’ 0.05 ‘.’ 0.1 ‘ ’ 1\n",
       "\n",
       "Residual standard error: 0.5757 on 852 degrees of freedom\n",
       "Multiple R-squared:  0.01777,\tAdjusted R-squared:  0.01662 \n",
       "F-statistic: 15.41 on 1 and 852 DF,  p-value: 9.331e-05\n"
      ]
     },
     "metadata": {},
     "output_type": "display_data"
    },
    {
     "name": "stdout",
     "output_type": "stream",
     "text": [
      "[1] \"#################Log-Log model below ##################################################\"\n"
     ]
    },
    {
     "data": {
      "text/plain": [
       "\n",
       "Call:\n",
       "lm(formula = price_log ~ overall_satisfaction_log, data = data)\n",
       "\n",
       "Residuals:\n",
       "    Min      1Q  Median      3Q     Max \n",
       "-1.6030 -0.3551 -0.0327  0.3298  3.7132 \n",
       "\n",
       "Coefficients:\n",
       "                         Estimate Std. Error t value Pr(>|t|)    \n",
       "(Intercept)               4.80396    0.05098  94.228  < 2e-16 ***\n",
       "overall_satisfaction_log -0.12750    0.03111  -4.099 4.55e-05 ***\n",
       "---\n",
       "Signif. codes:  0 ‘***’ 0.001 ‘**’ 0.01 ‘*’ 0.05 ‘.’ 0.1 ‘ ’ 1\n",
       "\n",
       "Residual standard error: 0.5752 on 852 degrees of freedom\n",
       "Multiple R-squared:  0.01934,\tAdjusted R-squared:  0.01819 \n",
       "F-statistic:  16.8 on 1 and 852 DF,  p-value: 4.547e-05\n"
      ]
     },
     "metadata": {},
     "output_type": "display_data"
    },
    {
     "name": "stdout",
     "output_type": "stream",
     "text": [
      "[1] \"#########################################################################################\"\n"
     ]
    }
   ],
   "source": [
    "# SOLUTION BEGINS HERE\n",
    "data = read.csv(\"../resource/asnlib/publicdata/airbnb_data.csv\", header = TRUE)\n",
    "data$overall_satisfaction_log <- log(data$overall_satisfaction+1)\n",
    "data$price_log <- log(data$price)\n",
    "print('#################Linear-Linear model below #########################################')\n",
    "model_linear_linear <- lm(price ~ overall_satisfaction, data=data)\n",
    "summary(model_linear_linear)\n",
    "\n",
    "print('#################Linear-Log model below ############################################')\n",
    "\n",
    "model_linear_log <- lm(price ~ overall_satisfaction_log, data=data)\n",
    "summary(model_linear_log)\n",
    "\n",
    "print('#################Log-Linear model below #############################################')\n",
    "\n",
    "model_log_linear <- lm(price_log ~ overall_satisfaction, data=data)\n",
    "summary(model_log_linear)\n",
    "\n",
    "print('#################Log-Log model below ##################################################')\n",
    "\n",
    "model_log_log <- lm(price_log ~ overall_satisfaction_log, data=data)\n",
    "summary(model_log_log)\n",
    "print('#########################################################################################')\n",
    "# SOLUTION ENDS HERE"
   ]
  },
  {
   "cell_type": "markdown",
   "metadata": {
    "deletable": false,
    "editable": false,
    "nbgrader": {
     "grade": false,
     "locked": true,
     "solution": false
    }
   },
   "source": [
    "d) Which of the four models has the best $R^2$? Do you have any comments on the choice of the independent variables? (2 points)"
   ]
  },
  {
   "cell_type": "code",
   "execution_count": 17,
   "metadata": {},
   "outputs": [
    {
     "data": {
      "text/html": [
       "0.0201842827776218"
      ],
      "text/latex": [
       "0.0201842827776218"
      ],
      "text/markdown": [
       "0.0201842827776218"
      ],
      "text/plain": [
       "[1] 0.02018428"
      ]
     },
     "metadata": {},
     "output_type": "display_data"
    },
    {
     "data": {
      "text/html": [
       "0.020887386741353"
      ],
      "text/latex": [
       "0.020887386741353"
      ],
      "text/markdown": [
       "0.020887386741353"
      ],
      "text/plain": [
       "[1] 0.02088739"
      ]
     },
     "metadata": {},
     "output_type": "display_data"
    },
    {
     "data": {
      "text/html": [
       "0.0177702713103193"
      ],
      "text/latex": [
       "0.0177702713103193"
      ],
      "text/markdown": [
       "0.0177702713103193"
      ],
      "text/plain": [
       "[1] 0.01777027"
      ]
     },
     "metadata": {},
     "output_type": "display_data"
    },
    {
     "data": {
      "text/html": [
       "0.019338613785989"
      ],
      "text/latex": [
       "0.019338613785989"
      ],
      "text/markdown": [
       "0.019338613785989"
      ],
      "text/plain": [
       "[1] 0.01933861"
      ]
     },
     "metadata": {},
     "output_type": "display_data"
    }
   ],
   "source": [
    "# SOLUTION BEGINS HERE\n",
    "summary(model_linear_linear)$r.squared\n",
    "summary(model_linear_log)$r.squared\n",
    "summary(model_log_linear)$r.squared\n",
    "summary(model_log_log)$r.squared\n",
    "# SOLUTION ENDS HERE"
   ]
  },
  {
   "cell_type": "markdown",
   "metadata": {},
   "source": [
    "Based on the above output you can see that linear-log has the best $R^2$.\n",
    "we can see that log transformation of the X variable \"overall_satisfaction\" gives a slightly better $R^2$"
   ]
  },
  {
   "cell_type": "markdown",
   "metadata": {
    "deletable": false,
    "editable": false,
    "nbgrader": {
     "grade": false,
     "locked": true,
     "solution": false
    }
   },
   "source": [
    "## Q3. The attached \"*titanic_data.csv\"* file was obtained from the following source: http://math.ucdenver.edu/RTutorial/\n",
    "\n",
    "**It has been cleaned to remove all rows which contain missing values. We will perform a logistic regression on this cleaned dataset.**\n",
    "\n",
    "**The dataset contains the following columns:**\n",
    "\n",
    "\n",
    "|Column Name|Description|Data Type|\n",
    "|------|------|------|\n",
    "|Name |Passenger Name|factor|\n",
    "|PClass|Passenger Class (1st, 2nd, 3rd)|factor|\n",
    "|Age|Passenger Age|number|\n",
    "|Sex|Passenger Sex - female, male|factor|\n",
    "|Survived|1 if passenger survived, 0 if not|number|\n",
    "\n",
    "**After converting the survived variable to be a factor with two levels, 0 and 1, perform a logistic regression on the dataset using 'survived' as the response and 'Sex' as the explanatory variable.**\n",
    "\n",
    "**Instruction: The file \"titanic_data.csv\" can be accessed at the path: (\"../resource/asnlib/publicdata/titanic_data.csv\")**"
   ]
  },
  {
   "cell_type": "markdown",
   "metadata": {
    "deletable": false,
    "editable": false,
    "nbgrader": {
     "grade": false,
     "locked": true,
     "solution": false
    }
   },
   "source": [
    "a. Display the model summary. (2 points)\n"
   ]
  },
  {
   "cell_type": "code",
   "execution_count": 18,
   "metadata": {},
   "outputs": [
    {
     "data": {
      "text/html": [
       "<table>\n",
       "<caption>A data.frame: 6 × 5</caption>\n",
       "<thead>\n",
       "\t<tr><th scope=col>Name</th><th scope=col>PClass</th><th scope=col>Age</th><th scope=col>Sex</th><th scope=col>Survived</th></tr>\n",
       "\t<tr><th scope=col>&lt;fct&gt;</th><th scope=col>&lt;fct&gt;</th><th scope=col>&lt;dbl&gt;</th><th scope=col>&lt;fct&gt;</th><th scope=col>&lt;fct&gt;</th></tr>\n",
       "</thead>\n",
       "<tbody>\n",
       "\t<tr><td>Allen, Miss Elisabeth Walton                 </td><td>1st</td><td>29.00</td><td>female</td><td>1</td></tr>\n",
       "\t<tr><td>Allison, Miss Helen Loraine                  </td><td>1st</td><td> 2.00</td><td>female</td><td>0</td></tr>\n",
       "\t<tr><td>Allison, Mr Hudson Joshua Creighton          </td><td>1st</td><td>30.00</td><td>male  </td><td>0</td></tr>\n",
       "\t<tr><td>Allison, Mrs Hudson JC (Bessie Waldo Daniels)</td><td>1st</td><td>25.00</td><td>female</td><td>0</td></tr>\n",
       "\t<tr><td>Allison, Master Hudson Trevor                </td><td>1st</td><td> 0.92</td><td>male  </td><td>1</td></tr>\n",
       "\t<tr><td>Anderson, Mr Harry                           </td><td>1st</td><td>47.00</td><td>male  </td><td>1</td></tr>\n",
       "</tbody>\n",
       "</table>\n"
      ],
      "text/latex": [
       "A data.frame: 6 × 5\n",
       "\\begin{tabular}{r|lllll}\n",
       " Name & PClass & Age & Sex & Survived\\\\\n",
       " <fct> & <fct> & <dbl> & <fct> & <fct>\\\\\n",
       "\\hline\n",
       "\t Allen, Miss Elisabeth Walton                  & 1st & 29.00 & female & 1\\\\\n",
       "\t Allison, Miss Helen Loraine                   & 1st &  2.00 & female & 0\\\\\n",
       "\t Allison, Mr Hudson Joshua Creighton           & 1st & 30.00 & male   & 0\\\\\n",
       "\t Allison, Mrs Hudson JC (Bessie Waldo Daniels) & 1st & 25.00 & female & 0\\\\\n",
       "\t Allison, Master Hudson Trevor                 & 1st &  0.92 & male   & 1\\\\\n",
       "\t Anderson, Mr Harry                            & 1st & 47.00 & male   & 1\\\\\n",
       "\\end{tabular}\n"
      ],
      "text/markdown": [
       "\n",
       "A data.frame: 6 × 5\n",
       "\n",
       "| Name &lt;fct&gt; | PClass &lt;fct&gt; | Age &lt;dbl&gt; | Sex &lt;fct&gt; | Survived &lt;fct&gt; |\n",
       "|---|---|---|---|---|\n",
       "| Allen, Miss Elisabeth Walton                  | 1st | 29.00 | female | 1 |\n",
       "| Allison, Miss Helen Loraine                   | 1st |  2.00 | female | 0 |\n",
       "| Allison, Mr Hudson Joshua Creighton           | 1st | 30.00 | male   | 0 |\n",
       "| Allison, Mrs Hudson JC (Bessie Waldo Daniels) | 1st | 25.00 | female | 0 |\n",
       "| Allison, Master Hudson Trevor                 | 1st |  0.92 | male   | 1 |\n",
       "| Anderson, Mr Harry                            | 1st | 47.00 | male   | 1 |\n",
       "\n"
      ],
      "text/plain": [
       "  Name                                          PClass Age   Sex    Survived\n",
       "1 Allen, Miss Elisabeth Walton                  1st    29.00 female 1       \n",
       "2 Allison, Miss Helen Loraine                   1st     2.00 female 0       \n",
       "3 Allison, Mr Hudson Joshua Creighton           1st    30.00 male   0       \n",
       "4 Allison, Mrs Hudson JC (Bessie Waldo Daniels) 1st    25.00 female 0       \n",
       "5 Allison, Master Hudson Trevor                 1st     0.92 male   1       \n",
       "6 Anderson, Mr Harry                            1st    47.00 male   1       "
      ]
     },
     "metadata": {},
     "output_type": "display_data"
    },
    {
     "data": {
      "text/plain": [
       "\n",
       "Call:\n",
       "glm(formula = Survived ~ Sex, family = binomial(link = \"logit\"), \n",
       "    data = data)\n",
       "\n",
       "Deviance Residuals: \n",
       "    Min       1Q   Median       3Q      Max  \n",
       "-1.6735  -0.6776  -0.6776   0.7524   1.7800  \n",
       "\n",
       "Coefficients:\n",
       "            Estimate Std. Error z value Pr(>|z|)    \n",
       "(Intercept)   1.1172     0.1367   8.171 3.05e-16 ***\n",
       "Sexmale      -2.4718     0.1783 -13.861  < 2e-16 ***\n",
       "---\n",
       "Signif. codes:  0 ‘***’ 0.001 ‘**’ 0.01 ‘*’ 0.05 ‘.’ 0.1 ‘ ’ 1\n",
       "\n",
       "(Dispersion parameter for binomial family taken to be 1)\n",
       "\n",
       "    Null deviance: 1025.57  on 755  degrees of freedom\n",
       "Residual deviance:  796.64  on 754  degrees of freedom\n",
       "AIC: 800.64\n",
       "\n",
       "Number of Fisher Scoring iterations: 4\n"
      ]
     },
     "metadata": {},
     "output_type": "display_data"
    }
   ],
   "source": [
    "# SOLUTION BEGINS HERE\n",
    "data = read.csv(\"../resource/asnlib/publicdata/titanic_data.csv\", header = TRUE)\n",
    "data[,'Survived'] <- as.factor(data[,'Survived'])\n",
    "head(data)\n",
    "\n",
    "model <- glm(Survived ~ Sex, data = data, family=binomial(link=\"logit\"))\n",
    "summary(model)\n",
    "\n",
    "# SOLUTION ENDS HERE"
   ]
  },
  {
   "cell_type": "markdown",
   "metadata": {
    "deletable": false,
    "editable": false,
    "nbgrader": {
     "grade": false,
     "locked": true,
     "solution": false
    }
   },
   "source": [
    "b. What does the value of the intercept coefficient represent in this model? (2 points)\n",
    "\n"
   ]
  },
  {
   "cell_type": "markdown",
   "metadata": {
    "collapsed": true
   },
   "source": [
    "As you can see from the output above, R converts variable Sex to a dummy variable SexMale. So the intercept coefficient represents log odds of survival log(p/1-p) for female passengers. "
   ]
  },
  {
   "cell_type": "markdown",
   "metadata": {
    "deletable": false,
    "editable": false,
    "nbgrader": {
     "grade": false,
     "locked": true,
     "solution": false
    }
   },
   "source": [
    "c. Determine the probability of survival for females. (2 points)\n"
   ]
  },
  {
   "cell_type": "markdown",
   "metadata": {
    "collapsed": true
   },
   "source": [
    "\n",
    "log(p/1-p) = $b_{0}$ <br>\n",
    "log(p/1-p) = 1.1172 <br>\n",
    "p/1-p = $e^{1.1172}$ <br>\n",
    "p=(1-p)*3.0563 <br>\n",
    "p=3.0563/4.0563 <br>\n",
    "p=0.75\n",
    "\n",
    "The probability of survival for a female passenger is 0.75\n"
   ]
  },
  {
   "cell_type": "markdown",
   "metadata": {
    "deletable": false,
    "editable": false,
    "nbgrader": {
     "grade": false,
     "locked": true,
     "solution": false
    }
   },
   "source": [
    "d. Determine the probability of survival for males. (2 points)\n"
   ]
  },
  {
   "cell_type": "markdown",
   "metadata": {
    "collapsed": true
   },
   "source": [
    "log(p/1-p) = $b_{0}$+$b_{1}$X <br>\n",
    "log(p/1-p) = 1.1172 - 2.4718 <br>\n",
    "p/1-p = $e^{-1.3546}$ <br>\n",
    "p=(1-p)*0.258 <br>\n",
    "p=0.258/1.258 <br>\n",
    "p=0.20\n",
    "\n",
    "The probability of survival for a male passenger is 0.20\n"
   ]
  },
  {
   "cell_type": "code",
   "execution_count": null,
   "metadata": {
    "collapsed": true
   },
   "outputs": [],
   "source": []
  }
 ],
 "metadata": {
  "kernelspec": {
   "display_name": "R 3.5.1",
   "language": "R",
   "name": "ir"
  },
  "language_info": {
   "codemirror_mode": "r",
   "file_extension": ".r",
   "mimetype": "text/x-r-source",
   "name": "R",
   "pygments_lexer": "r",
   "version": "3.5.1"
  }
 },
 "nbformat": 4,
 "nbformat_minor": 2
}
